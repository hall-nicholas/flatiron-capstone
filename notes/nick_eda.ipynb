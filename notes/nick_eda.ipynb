{
 "cells": [
  {
   "cell_type": "code",
   "execution_count": 2,
   "metadata": {},
   "outputs": [],
   "source": [
    "import numpy as np\n",
    "import matplotlib.pyplot as plt\n",
    "import cv2"
   ]
  },
  {
   "cell_type": "code",
   "execution_count": 3,
   "metadata": {},
   "outputs": [],
   "source": [
    "test_img = cv2.imread('../data/misc/guyfieri.jpeg')\n",
    "\n",
    "cv2.imshow('guy fieri', test_img)\n",
    "\n",
    "# clears image on key press\n",
    "cv2.waitKey(0)\n",
    "cv2.destroyAllWindows()"
   ]
  },
  {
   "cell_type": "code",
   "execution_count": 4,
   "metadata": {},
   "outputs": [],
   "source": [
    "from pycocotools.coco import COCO"
   ]
  },
  {
   "cell_type": "code",
   "execution_count": 5,
   "metadata": {},
   "outputs": [],
   "source": [
    "dataDir='../data'\n",
    "dataType='train2017'\n",
    "annFile='{}/annotations/instances_{}.json'.format(dataDir,dataType)"
   ]
  },
  {
   "cell_type": "code",
   "execution_count": 6,
   "metadata": {},
   "outputs": [
    {
     "name": "stdout",
     "output_type": "stream",
     "text": [
      "loading annotations into memory...\n",
      "Done (t=9.96s)\n",
      "creating index...\n",
      "index created!\n"
     ]
    }
   ],
   "source": [
    "coco=COCO(annFile)"
   ]
  },
  {
   "cell_type": "code",
   "execution_count": 7,
   "metadata": {},
   "outputs": [
    {
     "name": "stdout",
     "output_type": "stream",
     "text": [
      "COCO categories: \n",
      "person; bicycle; car; motorcycle; airplane; bus; train; truck; boat; traffic light; fire hydrant; stop sign; parking meter; bench; bird; cat; dog; horse; sheep; cow; elephant; bear; zebra; giraffe; backpack; umbrella; handbag; tie; suitcase; frisbee; skis; snowboard; sports ball; kite; baseball bat; baseball glove; skateboard; surfboard; tennis racket; bottle; wine glass; cup; fork; knife; spoon; bowl; banana; apple; sandwich; orange; broccoli; carrot; hot dog; pizza; donut; cake; chair; couch; potted plant; bed; dining table; toilet; tv; laptop; mouse; remote; keyboard; cell phone; microwave; oven; toaster; sink; refrigerator; book; clock; vase; scissors; teddy bear; hair drier; toothbrush\n",
      "\n",
      "COCO supercategories: \n",
      "vehicle; kitchen; electronic; appliance; person; food; animal; furniture; sports; outdoor; indoor; accessory\n"
     ]
    }
   ],
   "source": [
    "# display COCO categories and supercategories\n",
    "cats = coco.loadCats(coco.getCatIds())\n",
    "nms=[cat['name'] for cat in cats]\n",
    "print('COCO categories: \\n{}\\n'.format('; '.join(nms)))\n",
    "\n",
    "nms = set([cat['supercategory'] for cat in cats])\n",
    "print('COCO supercategories: \\n{}'.format('; '.join(nms)))"
   ]
  },
  {
   "cell_type": "code",
   "execution_count": 17,
   "metadata": {},
   "outputs": [],
   "source": [
    "catIds = coco.getCatIds(catNms=['person']);\n",
    "imgIds = coco.getImgIds(catIds=catIds );\n",
    "imgIds = coco.getImgIds(imgIds = imgIds)\n",
    "img = coco.loadImgs(imgIds[np.random.randint(0,len(imgIds))])[0]"
   ]
  },
  {
   "cell_type": "code",
   "execution_count": 18,
   "metadata": {},
   "outputs": [
    {
     "data": {
      "text/plain": [
       "'../data/train2017/000000247378.jpg'"
      ]
     },
     "execution_count": 18,
     "metadata": {},
     "output_type": "execute_result"
    }
   ],
   "source": [
    "fpath = '{}/{}/{}'.format(dataDir, dataType, img['file_name'])\n",
    "fpath"
   ]
  },
  {
   "cell_type": "code",
   "execution_count": 19,
   "metadata": {},
   "outputs": [],
   "source": [
    "test_img = cv2.imread(fpath)\n",
    "cv2.imshow('random COCO photo with people', test_img)\n",
    "\n",
    "# clears image on key press\n",
    "cv2.waitKey(0)\n",
    "cv2.destroyAllWindows()"
   ]
  },
  {
   "cell_type": "code",
   "execution_count": null,
   "metadata": {},
   "outputs": [],
   "source": []
  }
 ],
 "metadata": {
  "kernelspec": {
   "display_name": "Python 3.10.6 ('capstone-env')",
   "language": "python",
   "name": "python3"
  },
  "language_info": {
   "codemirror_mode": {
    "name": "ipython",
    "version": 3
   },
   "file_extension": ".py",
   "mimetype": "text/x-python",
   "name": "python",
   "nbconvert_exporter": "python",
   "pygments_lexer": "ipython3",
   "version": "3.10.6"
  },
  "orig_nbformat": 4,
  "vscode": {
   "interpreter": {
    "hash": "948fb5d5b69e8e6148da914366d7e8ec0c2c8a66958644710cf8e6ff284ce85b"
   }
  }
 },
 "nbformat": 4,
 "nbformat_minor": 2
}
