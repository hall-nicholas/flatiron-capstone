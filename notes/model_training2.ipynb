{
 "cells": [
  {
   "cell_type": "code",
   "execution_count": 1,
   "metadata": {},
   "outputs": [
    {
     "name": "stderr",
     "output_type": "stream",
     "text": [
      "c:\\Users\\nicho\\anaconda3\\envs\\capstone-env\\lib\\site-packages\\scipy\\__init__.py:146: UserWarning: A NumPy version >=1.16.5 and <1.23.0 is required for this version of SciPy (detected version 1.23.4\n",
      "  warnings.warn(f\"A NumPy version >={np_minversion} and <{np_maxversion}\"\n"
     ]
    }
   ],
   "source": [
    "import numpy as np\n",
    "import matplotlib.pyplot as plt\n",
    "from pycocotools.coco import COCO\n",
    "import cv2\n",
    "import os\n",
    "import glob\n",
    "import h5py\n",
    "import sklearn\n",
    "\n",
    "import functions as fn\n",
    "\n",
    "import tensorflow as tf\n",
    "from tensorflow import keras\n",
    "from keras import backend as K\n",
    "from keras.callbacks import ModelCheckpoint, EarlyStopping, CSVLogger\n",
    "\n",
    "seed=42"
   ]
  },
  {
   "cell_type": "code",
   "execution_count": 2,
   "metadata": {},
   "outputs": [
    {
     "name": "stdout",
     "output_type": "stream",
     "text": [
      "PhysicalDevice(name='/physical_device:CPU:0', device_type='CPU')\n"
     ]
    }
   ],
   "source": [
    "physical_devices = tf.config.list_physical_devices()\n",
    "for dev in physical_devices:\n",
    "  print(dev)"
   ]
  },
  {
   "cell_type": "code",
   "execution_count": 3,
   "metadata": {},
   "outputs": [
    {
     "data": {
      "text/plain": [
       "[]"
      ]
     },
     "execution_count": 3,
     "metadata": {},
     "output_type": "execute_result"
    }
   ],
   "source": [
    "tf.config.list_physical_devices('GPU')"
   ]
  },
  {
   "cell_type": "code",
   "execution_count": 4,
   "metadata": {},
   "outputs": [
    {
     "name": "stdout",
     "output_type": "stream",
     "text": [
      "Found 7936 files belonging to 2 classes.\n",
      "Using 6349 files for training.\n",
      "Found 7936 files belonging to 2 classes.\n",
      "Using 1587 files for validation.\n",
      "Found 1974 files belonging to 2 classes.\n"
     ]
    }
   ],
   "source": [
    "train_data = keras.preprocessing.image_dataset_from_directory(\n",
    "    '../created_data/train', \n",
    "    labels='inferred',\n",
    "    subset=\"training\",\n",
    "    validation_split=.2,\n",
    "    seed=seed,\n",
    "    #color_mode='grayscale',\n",
    "    shuffle=True)\n",
    "\n",
    "val_data = keras.preprocessing.image_dataset_from_directory(\n",
    "    '../created_data/train', \n",
    "    labels='inferred',\n",
    "    subset=\"validation\",\n",
    "    validation_split=.2,\n",
    "    seed=seed,\n",
    "    #color_mode='grayscale',\n",
    "    shuffle=True)\n",
    "\n",
    "test_data = keras.preprocessing.image_dataset_from_directory(\n",
    "    '../created_data/test', \n",
    "    labels='inferred',\n",
    "    #color_mode='grayscale',\n",
    "    shuffle=False,)"
   ]
  },
  {
   "cell_type": "code",
   "execution_count": 5,
   "metadata": {},
   "outputs": [],
   "source": [
    "def preprocess(image, label):\n",
    "    resized_image = tf.image.resize(image, [512,512])\n",
    "    final_image = keras.applications.mobilenet_v3.preprocess_input(resized_image)\n",
    "    return final_image, label"
   ]
  },
  {
   "cell_type": "code",
   "execution_count": 6,
   "metadata": {},
   "outputs": [],
   "source": [
    "train_data = train_data.map(preprocess).prefetch(1)\n",
    "val_data = val_data.map(preprocess).prefetch(1)\n",
    "test_data = test_data.map(preprocess).prefetch(1)"
   ]
  },
  {
   "cell_type": "code",
   "execution_count": 7,
   "metadata": {},
   "outputs": [],
   "source": [
    "def recall_m(y_true, y_pred):\n",
    "    true_positives = K.sum(K.round(K.clip(y_true * y_pred, 0, 1)))\n",
    "    possible_positives = K.sum(K.round(K.clip(y_true, 0, 1)))\n",
    "    recall = true_positives / (possible_positives + K.epsilon())\n",
    "    return recall\n",
    "\n",
    "def precision_m(y_true, y_pred):\n",
    "    true_positives = K.sum(K.round(K.clip(y_true * y_pred, 0, 1)))\n",
    "    predicted_positives = K.sum(K.round(K.clip(y_pred, 0, 1)))\n",
    "    precision = true_positives / (predicted_positives + K.epsilon())\n",
    "    return precision\n",
    "\n",
    "def f1_m(y_true, y_pred):\n",
    "    precision = precision_m(y_true, y_pred)\n",
    "    recall = recall_m(y_true, y_pred)\n",
    "    return 2*((precision*recall)/(precision+recall+K.epsilon()))"
   ]
  },
  {
   "cell_type": "code",
   "execution_count": 17,
   "metadata": {},
   "outputs": [
    {
     "name": "stdout",
     "output_type": "stream",
     "text": [
      "WARNING:tensorflow:`input_shape` is undefined or non-square, or `rows` is not 224. Weights for input shape (224, 224) will be loaded as the default.\n",
      "WARNING:tensorflow:`period` argument is deprecated. Please use `save_freq` to specify the frequency in number of batches seen.\n",
      "Epoch 1/1000\n"
     ]
    },
    {
     "name": "stderr",
     "output_type": "stream",
     "text": [
      "C:\\Users\\nicho\\AppData\\Local\\Temp\\ipykernel_19676\\3234469743.py:20: UserWarning: `Model.fit_generator` is deprecated and will be removed in a future version. Please use `Model.fit`, which supports generators.\n",
      "  results = model_mobilenetv3.fit_generator(train_data,\n"
     ]
    },
    {
     "name": "stdout",
     "output_type": "stream",
     "text": [
      "199/199 [==============================] - ETA: 0s - loss: 3.9779 - accuracy: 0.5267 - recall_m: 0.5222 - precision_m: 0.5165 - f1_m: 0.4798\n",
      "Epoch 1: saving model to ../models\\model_MobileNetV3_v1_weights00000001.h5\n",
      "199/199 [==============================] - 200s 990ms/step - loss: 3.9779 - accuracy: 0.5267 - recall_m: 0.5222 - precision_m: 0.5165 - f1_m: 0.4798 - val_loss: 2.5186 - val_accuracy: 0.5476 - val_recall_m: 0.3820 - val_precision_m: 0.5841 - val_f1_m: 0.4516\n",
      "Epoch 2/1000\n",
      "199/199 [==============================] - ETA: 0s - loss: 2.3118 - accuracy: 0.5546 - recall_m: 0.5478 - precision_m: 0.5632 - f1_m: 0.5055\n",
      "Epoch 2: saving model to ../models\\model_MobileNetV3_v1_weights00000002.h5\n",
      "199/199 [==============================] - 196s 981ms/step - loss: 2.3118 - accuracy: 0.5546 - recall_m: 0.5478 - precision_m: 0.5632 - f1_m: 0.5055 - val_loss: 1.6268 - val_accuracy: 0.5381 - val_recall_m: 0.5615 - val_precision_m: 0.5338 - val_f1_m: 0.5421\n",
      "Epoch 3/1000\n",
      "199/199 [==============================] - ETA: 0s - loss: 1.4484 - accuracy: 0.5913 - recall_m: 0.5781 - precision_m: 0.6025 - f1_m: 0.5579\n",
      "Epoch 3: saving model to ../models\\model_MobileNetV3_v1_weights00000003.h5\n",
      "199/199 [==============================] - 195s 980ms/step - loss: 1.4484 - accuracy: 0.5913 - recall_m: 0.5781 - precision_m: 0.6025 - f1_m: 0.5579 - val_loss: 1.7594 - val_accuracy: 0.5343 - val_recall_m: 0.2807 - val_precision_m: 0.5805 - val_f1_m: 0.3677\n",
      "Epoch 4/1000\n",
      "199/199 [==============================] - ETA: 0s - loss: 1.1760 - accuracy: 0.5933 - recall_m: 0.5891 - precision_m: 0.6101 - f1_m: 0.5634\n",
      "Epoch 4: saving model to ../models\\model_MobileNetV3_v1_weights00000004.h5\n",
      "199/199 [==============================] - 193s 970ms/step - loss: 1.1760 - accuracy: 0.5933 - recall_m: 0.5891 - precision_m: 0.6101 - f1_m: 0.5634 - val_loss: 1.1768 - val_accuracy: 0.5621 - val_recall_m: 0.4599 - val_precision_m: 0.5927 - val_f1_m: 0.5069\n",
      "Epoch 5/1000\n",
      "199/199 [==============================] - ETA: 0s - loss: 1.0634 - accuracy: 0.6045 - recall_m: 0.6007 - precision_m: 0.6240 - f1_m: 0.5706\n",
      "Epoch 5: saving model to ../models\\model_MobileNetV3_v1_weights00000005.h5\n",
      "199/199 [==============================] - 194s 972ms/step - loss: 1.0634 - accuracy: 0.6045 - recall_m: 0.6007 - precision_m: 0.6240 - f1_m: 0.5706 - val_loss: 1.5566 - val_accuracy: 0.5299 - val_recall_m: 0.2023 - val_precision_m: 0.5824 - val_f1_m: 0.2911\n",
      "Epoch 6/1000\n",
      "199/199 [==============================] - ETA: 0s - loss: 0.9558 - accuracy: 0.6207 - recall_m: 0.6143 - precision_m: 0.6339 - f1_m: 0.5886\n",
      "Epoch 6: saving model to ../models\\model_MobileNetV3_v1_weights00000006.h5\n",
      "199/199 [==============================] - 193s 968ms/step - loss: 0.9558 - accuracy: 0.6207 - recall_m: 0.6143 - precision_m: 0.6339 - f1_m: 0.5886 - val_loss: 1.3524 - val_accuracy: 0.5406 - val_recall_m: 0.2472 - val_precision_m: 0.6137 - val_f1_m: 0.3403\n",
      "Epoch 7/1000\n",
      "199/199 [==============================] - ETA: 0s - loss: 0.8462 - accuracy: 0.6294 - recall_m: 0.6153 - precision_m: 0.6397 - f1_m: 0.5996\n",
      "Epoch 7: saving model to ../models\\model_MobileNetV3_v1_weights00000007.h5\n",
      "199/199 [==============================] - 193s 970ms/step - loss: 0.8462 - accuracy: 0.6294 - recall_m: 0.6153 - precision_m: 0.6397 - f1_m: 0.5996 - val_loss: 1.0463 - val_accuracy: 0.5539 - val_recall_m: 0.5741 - val_precision_m: 0.5588 - val_f1_m: 0.5557\n",
      "Epoch 8/1000\n",
      "199/199 [==============================] - ETA: 0s - loss: 0.8296 - accuracy: 0.6248 - recall_m: 0.6214 - precision_m: 0.6392 - f1_m: 0.5972\n",
      "Epoch 8: saving model to ../models\\model_MobileNetV3_v1_weights00000008.h5\n",
      "199/199 [==============================] - 194s 972ms/step - loss: 0.8296 - accuracy: 0.6248 - recall_m: 0.6214 - precision_m: 0.6392 - f1_m: 0.5972 - val_loss: 1.0402 - val_accuracy: 0.5539 - val_recall_m: 0.4878 - val_precision_m: 0.5597 - val_f1_m: 0.5125\n",
      "Epoch 9/1000\n",
      "199/199 [==============================] - ETA: 0s - loss: 0.7590 - accuracy: 0.6341 - recall_m: 0.6320 - precision_m: 0.6405 - f1_m: 0.6167\n",
      "Epoch 9: saving model to ../models\\model_MobileNetV3_v1_weights00000009.h5\n",
      "199/199 [==============================] - 194s 974ms/step - loss: 0.7590 - accuracy: 0.6341 - recall_m: 0.6320 - precision_m: 0.6405 - f1_m: 0.6167 - val_loss: 1.0213 - val_accuracy: 0.5526 - val_recall_m: 0.3960 - val_precision_m: 0.5897 - val_f1_m: 0.4619\n",
      "Epoch 10/1000\n",
      "199/199 [==============================] - ETA: 0s - loss: 0.7461 - accuracy: 0.6442 - recall_m: 0.6375 - precision_m: 0.6523 - f1_m: 0.6218\n",
      "Epoch 10: saving model to ../models\\model_MobileNetV3_v1_weights00000010.h5\n",
      "199/199 [==============================] - 194s 975ms/step - loss: 0.7461 - accuracy: 0.6442 - recall_m: 0.6375 - precision_m: 0.6523 - f1_m: 0.6218 - val_loss: 0.9375 - val_accuracy: 0.5621 - val_recall_m: 0.6139 - val_precision_m: 0.5562 - val_f1_m: 0.5761\n",
      "Epoch 11/1000\n",
      "199/199 [==============================] - ETA: 0s - loss: 0.7060 - accuracy: 0.6525 - recall_m: 0.6438 - precision_m: 0.6581 - f1_m: 0.6351\n",
      "Epoch 11: saving model to ../models\\model_MobileNetV3_v1_weights00000011.h5\n",
      "199/199 [==============================] - 193s 969ms/step - loss: 0.7060 - accuracy: 0.6525 - recall_m: 0.6438 - precision_m: 0.6581 - f1_m: 0.6351 - val_loss: 0.9484 - val_accuracy: 0.5507 - val_recall_m: 0.4480 - val_precision_m: 0.5656 - val_f1_m: 0.4935\n",
      "Epoch 12/1000\n",
      "199/199 [==============================] - ETA: 0s - loss: 0.7144 - accuracy: 0.6440 - recall_m: 0.6436 - precision_m: 0.6558 - f1_m: 0.6276\n",
      "Epoch 12: saving model to ../models\\model_MobileNetV3_v1_weights00000012.h5\n",
      "199/199 [==============================] - 193s 967ms/step - loss: 0.7144 - accuracy: 0.6440 - recall_m: 0.6436 - precision_m: 0.6558 - f1_m: 0.6276 - val_loss: 0.9081 - val_accuracy: 0.5507 - val_recall_m: 0.5159 - val_precision_m: 0.5563 - val_f1_m: 0.5279\n",
      "Epoch 13/1000\n",
      "199/199 [==============================] - ETA: 0s - loss: 0.6997 - accuracy: 0.6450 - recall_m: 0.6445 - precision_m: 0.6497 - f1_m: 0.6310\n",
      "Epoch 13: saving model to ../models\\model_MobileNetV3_v1_weights00000013.h5\n",
      "199/199 [==============================] - 193s 968ms/step - loss: 0.6997 - accuracy: 0.6450 - recall_m: 0.6445 - precision_m: 0.6497 - f1_m: 0.6310 - val_loss: 0.8967 - val_accuracy: 0.5476 - val_recall_m: 0.5347 - val_precision_m: 0.5503 - val_f1_m: 0.5332\n",
      "Epoch 14/1000\n",
      "199/199 [==============================] - ETA: 0s - loss: 0.6856 - accuracy: 0.6529 - recall_m: 0.6468 - precision_m: 0.6598 - f1_m: 0.6349\n",
      "Epoch 14: saving model to ../models\\model_MobileNetV3_v1_weights00000014.h5\n",
      "199/199 [==============================] - 193s 967ms/step - loss: 0.6856 - accuracy: 0.6529 - recall_m: 0.6468 - precision_m: 0.6598 - f1_m: 0.6349 - val_loss: 0.9407 - val_accuracy: 0.5583 - val_recall_m: 0.4052 - val_precision_m: 0.5994 - val_f1_m: 0.4703\n",
      "Epoch 15/1000\n",
      "199/199 [==============================] - ETA: 0s - loss: 0.6904 - accuracy: 0.6448 - recall_m: 0.6351 - precision_m: 0.6552 - f1_m: 0.6237\n",
      "Epoch 15: saving model to ../models\\model_MobileNetV3_v1_weights00000015.h5\n",
      "199/199 [==============================] - 193s 968ms/step - loss: 0.6904 - accuracy: 0.6448 - recall_m: 0.6351 - precision_m: 0.6552 - f1_m: 0.6237 - val_loss: 0.9052 - val_accuracy: 0.5665 - val_recall_m: 0.5726 - val_precision_m: 0.5709 - val_f1_m: 0.5661\n",
      "Epoch 16/1000\n",
      "199/199 [==============================] - ETA: 0s - loss: 0.6647 - accuracy: 0.6570 - recall_m: 0.6541 - precision_m: 0.6571 - f1_m: 0.6405\n",
      "Epoch 16: saving model to ../models\\model_MobileNetV3_v1_weights00000016.h5\n",
      "199/199 [==============================] - 193s 968ms/step - loss: 0.6647 - accuracy: 0.6570 - recall_m: 0.6541 - precision_m: 0.6571 - f1_m: 0.6405 - val_loss: 0.9597 - val_accuracy: 0.5476 - val_recall_m: 0.3487 - val_precision_m: 0.5844 - val_f1_m: 0.4271\n",
      "Epoch 17/1000\n",
      "199/199 [==============================] - ETA: 0s - loss: 0.6718 - accuracy: 0.6524 - recall_m: 0.6428 - precision_m: 0.6607 - f1_m: 0.6303\n",
      "Epoch 17: saving model to ../models\\model_MobileNetV3_v1_weights00000017.h5\n",
      "199/199 [==============================] - 193s 967ms/step - loss: 0.6718 - accuracy: 0.6524 - recall_m: 0.6428 - precision_m: 0.6607 - f1_m: 0.6303 - val_loss: 0.9941 - val_accuracy: 0.5539 - val_recall_m: 0.3053 - val_precision_m: 0.6036 - val_f1_m: 0.3995\n",
      "Epoch 18/1000\n",
      "199/199 [==============================] - ETA: 0s - loss: 0.6564 - accuracy: 0.6508 - recall_m: 0.6432 - precision_m: 0.6533 - f1_m: 0.6335\n",
      "Epoch 18: saving model to ../models\\model_MobileNetV3_v1_weights00000018.h5\n",
      "199/199 [==============================] - 193s 970ms/step - loss: 0.6564 - accuracy: 0.6508 - recall_m: 0.6432 - precision_m: 0.6533 - f1_m: 0.6335 - val_loss: 0.9139 - val_accuracy: 0.5545 - val_recall_m: 0.4217 - val_precision_m: 0.5881 - val_f1_m: 0.4807\n",
      "Epoch 19/1000\n",
      "199/199 [==============================] - ETA: 0s - loss: 0.6471 - accuracy: 0.6625 - recall_m: 0.6577 - precision_m: 0.6600 - f1_m: 0.6467\n",
      "Epoch 19: saving model to ../models\\model_MobileNetV3_v1_weights00000019.h5\n",
      "199/199 [==============================] - 193s 969ms/step - loss: 0.6471 - accuracy: 0.6625 - recall_m: 0.6577 - precision_m: 0.6600 - f1_m: 0.6467 - val_loss: 0.8853 - val_accuracy: 0.5532 - val_recall_m: 0.4290 - val_precision_m: 0.5686 - val_f1_m: 0.4809\n",
      "Epoch 20/1000\n",
      "199/199 [==============================] - ETA: 0s - loss: 0.6483 - accuracy: 0.6582 - recall_m: 0.6512 - precision_m: 0.6616 - f1_m: 0.6414\n",
      "Epoch 20: saving model to ../models\\model_MobileNetV3_v1_weights00000020.h5\n",
      "199/199 [==============================] - 193s 969ms/step - loss: 0.6483 - accuracy: 0.6582 - recall_m: 0.6512 - precision_m: 0.6616 - f1_m: 0.6414 - val_loss: 0.8750 - val_accuracy: 0.5507 - val_recall_m: 0.4700 - val_precision_m: 0.5679 - val_f1_m: 0.5049\n",
      "Epoch 21/1000\n",
      "199/199 [==============================] - ETA: 0s - loss: 0.6538 - accuracy: 0.6525 - recall_m: 0.6566 - precision_m: 0.6613 - f1_m: 0.6374\n",
      "Epoch 21: saving model to ../models\\model_MobileNetV3_v1_weights00000021.h5\n",
      "199/199 [==============================] - 193s 969ms/step - loss: 0.6538 - accuracy: 0.6525 - recall_m: 0.6566 - precision_m: 0.6613 - f1_m: 0.6374 - val_loss: 0.8563 - val_accuracy: 0.5488 - val_recall_m: 0.5208 - val_precision_m: 0.5547 - val_f1_m: 0.5298\n",
      "Epoch 22/1000\n",
      "199/199 [==============================] - ETA: 0s - loss: 0.6504 - accuracy: 0.6568 - recall_m: 0.6461 - precision_m: 0.6677 - f1_m: 0.6357\n",
      "Epoch 22: saving model to ../models\\model_MobileNetV3_v1_weights00000022.h5\n",
      "199/199 [==============================] - 193s 968ms/step - loss: 0.6504 - accuracy: 0.6568 - recall_m: 0.6461 - precision_m: 0.6677 - f1_m: 0.6357 - val_loss: 0.9127 - val_accuracy: 0.5558 - val_recall_m: 0.3480 - val_precision_m: 0.5938 - val_f1_m: 0.4296\n",
      "Epoch 23/1000\n",
      "199/199 [==============================] - ETA: 0s - loss: 0.6485 - accuracy: 0.6588 - recall_m: 0.6542 - precision_m: 0.6598 - f1_m: 0.6382\n",
      "Epoch 23: saving model to ../models\\model_MobileNetV3_v1_weights00000023.h5\n",
      "199/199 [==============================] - 193s 971ms/step - loss: 0.6485 - accuracy: 0.6588 - recall_m: 0.6542 - precision_m: 0.6598 - f1_m: 0.6382 - val_loss: 0.8611 - val_accuracy: 0.5526 - val_recall_m: 0.4578 - val_precision_m: 0.5782 - val_f1_m: 0.5003\n",
      "Epoch 24/1000\n",
      "199/199 [==============================] - ETA: 0s - loss: 0.6394 - accuracy: 0.6560 - recall_m: 0.6575 - precision_m: 0.6578 - f1_m: 0.6414\n",
      "Epoch 24: saving model to ../models\\model_MobileNetV3_v1_weights00000024.h5\n",
      "199/199 [==============================] - 193s 969ms/step - loss: 0.6394 - accuracy: 0.6560 - recall_m: 0.6575 - precision_m: 0.6578 - f1_m: 0.6414 - val_loss: 0.8387 - val_accuracy: 0.5501 - val_recall_m: 0.5517 - val_precision_m: 0.5514 - val_f1_m: 0.5448\n",
      "Epoch 25/1000\n",
      "199/199 [==============================] - ETA: 0s - loss: 0.6422 - accuracy: 0.6604 - recall_m: 0.6530 - precision_m: 0.6705 - f1_m: 0.6412\n",
      "Epoch 25: saving model to ../models\\model_MobileNetV3_v1_weights00000025.h5\n",
      "199/199 [==============================] - 193s 969ms/step - loss: 0.6422 - accuracy: 0.6604 - recall_m: 0.6530 - precision_m: 0.6705 - f1_m: 0.6412 - val_loss: 0.9170 - val_accuracy: 0.5621 - val_recall_m: 0.3424 - val_precision_m: 0.6097 - val_f1_m: 0.4301\n",
      "Epoch 26/1000\n",
      "199/199 [==============================] - ETA: 0s - loss: 0.6425 - accuracy: 0.6587 - recall_m: 0.6542 - precision_m: 0.6635 - f1_m: 0.6398\n",
      "Epoch 26: saving model to ../models\\model_MobileNetV3_v1_weights00000026.h5\n",
      "199/199 [==============================] - 193s 969ms/step - loss: 0.6425 - accuracy: 0.6587 - recall_m: 0.6542 - precision_m: 0.6635 - f1_m: 0.6398 - val_loss: 0.8346 - val_accuracy: 0.5621 - val_recall_m: 0.5276 - val_precision_m: 0.5640 - val_f1_m: 0.5391\n",
      "Epoch 27/1000\n",
      "199/199 [==============================] - ETA: 0s - loss: 0.6318 - accuracy: 0.6661 - recall_m: 0.6615 - precision_m: 0.6689 - f1_m: 0.6511\n",
      "Epoch 27: saving model to ../models\\model_MobileNetV3_v1_weights00000027.h5\n",
      "199/199 [==============================] - 193s 968ms/step - loss: 0.6318 - accuracy: 0.6661 - recall_m: 0.6615 - precision_m: 0.6689 - f1_m: 0.6511 - val_loss: 0.8541 - val_accuracy: 0.5514 - val_recall_m: 0.4262 - val_precision_m: 0.5721 - val_f1_m: 0.4788\n",
      "Epoch 28/1000\n",
      "199/199 [==============================] - ETA: 0s - loss: 0.6244 - accuracy: 0.6716 - recall_m: 0.6648 - precision_m: 0.6692 - f1_m: 0.6558\n",
      "Epoch 28: saving model to ../models\\model_MobileNetV3_v1_weights00000028.h5\n",
      "199/199 [==============================] - 193s 971ms/step - loss: 0.6244 - accuracy: 0.6716 - recall_m: 0.6648 - precision_m: 0.6692 - f1_m: 0.6558 - val_loss: 0.8726 - val_accuracy: 0.5589 - val_recall_m: 0.3798 - val_precision_m: 0.5884 - val_f1_m: 0.4554\n",
      "Epoch 29/1000\n",
      "199/199 [==============================] - ETA: 0s - loss: 0.6248 - accuracy: 0.6689 - recall_m: 0.6621 - precision_m: 0.6740 - f1_m: 0.6540\n",
      "Epoch 29: saving model to ../models\\model_MobileNetV3_v1_weights00000029.h5\n",
      "199/199 [==============================] - 193s 970ms/step - loss: 0.6248 - accuracy: 0.6689 - recall_m: 0.6621 - precision_m: 0.6740 - f1_m: 0.6540 - val_loss: 0.8923 - val_accuracy: 0.5621 - val_recall_m: 0.3557 - val_precision_m: 0.6211 - val_f1_m: 0.4417\n",
      "Epoch 30/1000\n",
      "199/199 [==============================] - ETA: 0s - loss: 0.6207 - accuracy: 0.6708 - recall_m: 0.6696 - precision_m: 0.6731 - f1_m: 0.6588\n",
      "Epoch 30: saving model to ../models\\model_MobileNetV3_v1_weights00000030.h5\n",
      "199/199 [==============================] - 194s 971ms/step - loss: 0.6207 - accuracy: 0.6708 - recall_m: 0.6696 - precision_m: 0.6731 - f1_m: 0.6588 - val_loss: 0.8398 - val_accuracy: 0.5570 - val_recall_m: 0.4485 - val_precision_m: 0.5749 - val_f1_m: 0.4950\n",
      "Epoch 31/1000\n",
      "199/199 [==============================] - ETA: 0s - loss: 0.6274 - accuracy: 0.6700 - recall_m: 0.6579 - precision_m: 0.6789 - f1_m: 0.6499\n",
      "Epoch 31: saving model to ../models\\model_MobileNetV3_v1_weights00000031.h5\n",
      "199/199 [==============================] - 193s 966ms/step - loss: 0.6274 - accuracy: 0.6700 - recall_m: 0.6579 - precision_m: 0.6789 - f1_m: 0.6499 - val_loss: 0.8591 - val_accuracy: 0.5501 - val_recall_m: 0.4034 - val_precision_m: 0.5830 - val_f1_m: 0.4655\n",
      "Epoch 32/1000\n",
      "199/199 [==============================] - ETA: 0s - loss: 0.6215 - accuracy: 0.6664 - recall_m: 0.6580 - precision_m: 0.6713 - f1_m: 0.6508\n",
      "Epoch 32: saving model to ../models\\model_MobileNetV3_v1_weights00000032.h5\n",
      "199/199 [==============================] - 193s 969ms/step - loss: 0.6215 - accuracy: 0.6664 - recall_m: 0.6580 - precision_m: 0.6713 - f1_m: 0.6508 - val_loss: 0.8355 - val_accuracy: 0.5551 - val_recall_m: 0.4601 - val_precision_m: 0.5807 - val_f1_m: 0.5032\n",
      "Epoch 33/1000\n",
      "199/199 [==============================] - ETA: 0s - loss: 0.6237 - accuracy: 0.6658 - recall_m: 0.6665 - precision_m: 0.6674 - f1_m: 0.6527\n",
      "Epoch 33: saving model to ../models\\model_MobileNetV3_v1_weights00000033.h5\n",
      "199/199 [==============================] - 193s 968ms/step - loss: 0.6237 - accuracy: 0.6658 - recall_m: 0.6665 - precision_m: 0.6674 - f1_m: 0.6527 - val_loss: 0.8482 - val_accuracy: 0.5551 - val_recall_m: 0.4077 - val_precision_m: 0.5802 - val_f1_m: 0.4695\n",
      "Epoch 34/1000\n",
      "199/199 [==============================] - ETA: 0s - loss: 0.6178 - accuracy: 0.6708 - recall_m: 0.6604 - precision_m: 0.6748 - f1_m: 0.6547\n",
      "Epoch 34: saving model to ../models\\model_MobileNetV3_v1_weights00000034.h5\n",
      "199/199 [==============================] - 194s 972ms/step - loss: 0.6178 - accuracy: 0.6708 - recall_m: 0.6604 - precision_m: 0.6748 - f1_m: 0.6547 - val_loss: 0.8235 - val_accuracy: 0.5488 - val_recall_m: 0.5027 - val_precision_m: 0.5554 - val_f1_m: 0.5216\n",
      "Epoch 35/1000\n",
      "199/199 [==============================] - ETA: 0s - loss: 0.6155 - accuracy: 0.6749 - recall_m: 0.6684 - precision_m: 0.6770 - f1_m: 0.6600\n",
      "Epoch 35: saving model to ../models\\model_MobileNetV3_v1_weights00000035.h5\n",
      "199/199 [==============================] - 193s 968ms/step - loss: 0.6155 - accuracy: 0.6749 - recall_m: 0.6684 - precision_m: 0.6770 - f1_m: 0.6600 - val_loss: 0.8302 - val_accuracy: 0.5526 - val_recall_m: 0.6519 - val_precision_m: 0.5466 - val_f1_m: 0.5898\n",
      "Epoch 36/1000\n",
      "199/199 [==============================] - ETA: 0s - loss: 0.6159 - accuracy: 0.6694 - recall_m: 0.6660 - precision_m: 0.6718 - f1_m: 0.6550\n",
      "Epoch 36: saving model to ../models\\model_MobileNetV3_v1_weights00000036.h5\n",
      "199/199 [==============================] - 193s 969ms/step - loss: 0.6159 - accuracy: 0.6694 - recall_m: 0.6660 - precision_m: 0.6718 - f1_m: 0.6550 - val_loss: 0.8163 - val_accuracy: 0.5583 - val_recall_m: 0.5988 - val_precision_m: 0.5600 - val_f1_m: 0.5700\n",
      "Epoch 37/1000\n",
      "199/199 [==============================] - ETA: 0s - loss: 0.6114 - accuracy: 0.6686 - recall_m: 0.6596 - precision_m: 0.6693 - f1_m: 0.6543\n",
      "Epoch 37: saving model to ../models\\model_MobileNetV3_v1_weights00000037.h5\n",
      "199/199 [==============================] - 193s 968ms/step - loss: 0.6114 - accuracy: 0.6686 - recall_m: 0.6596 - precision_m: 0.6693 - f1_m: 0.6543 - val_loss: 0.8223 - val_accuracy: 0.5501 - val_recall_m: 0.4694 - val_precision_m: 0.5684 - val_f1_m: 0.5056\n",
      "Epoch 38/1000\n",
      "199/199 [==============================] - ETA: 0s - loss: 0.6211 - accuracy: 0.6735 - recall_m: 0.6590 - precision_m: 0.6815 - f1_m: 0.6516\n",
      "Epoch 38: saving model to ../models\\model_MobileNetV3_v1_weights00000038.h5\n",
      "199/199 [==============================] - 193s 970ms/step - loss: 0.6211 - accuracy: 0.6735 - recall_m: 0.6590 - precision_m: 0.6815 - f1_m: 0.6516 - val_loss: 0.8393 - val_accuracy: 0.5545 - val_recall_m: 0.4050 - val_precision_m: 0.5766 - val_f1_m: 0.4655\n",
      "Epoch 39/1000\n",
      "199/199 [==============================] - ETA: 0s - loss: 0.6206 - accuracy: 0.6634 - recall_m: 0.6695 - precision_m: 0.6645 - f1_m: 0.6536\n",
      "Epoch 39: saving model to ../models\\model_MobileNetV3_v1_weights00000039.h5\n",
      "199/199 [==============================] - 193s 968ms/step - loss: 0.6206 - accuracy: 0.6634 - recall_m: 0.6695 - precision_m: 0.6645 - f1_m: 0.6536 - val_loss: 0.8252 - val_accuracy: 0.5495 - val_recall_m: 0.4726 - val_precision_m: 0.5635 - val_f1_m: 0.5049\n",
      "Epoch 40/1000\n",
      "199/199 [==============================] - ETA: 0s - loss: 0.6133 - accuracy: 0.6697 - recall_m: 0.6634 - precision_m: 0.6741 - f1_m: 0.6556\n",
      "Epoch 40: saving model to ../models\\model_MobileNetV3_v1_weights00000040.h5\n",
      "199/199 [==============================] - 193s 966ms/step - loss: 0.6133 - accuracy: 0.6697 - recall_m: 0.6634 - precision_m: 0.6741 - f1_m: 0.6556 - val_loss: 0.8226 - val_accuracy: 0.5495 - val_recall_m: 0.4580 - val_precision_m: 0.5619 - val_f1_m: 0.4968\n",
      "Epoch 41/1000\n",
      "199/199 [==============================] - ETA: 0s - loss: 0.6108 - accuracy: 0.6759 - recall_m: 0.6664 - precision_m: 0.6797 - f1_m: 0.6617\n",
      "Epoch 41: saving model to ../models\\model_MobileNetV3_v1_weights00000041.h5\n",
      "199/199 [==============================] - 193s 970ms/step - loss: 0.6108 - accuracy: 0.6759 - recall_m: 0.6664 - precision_m: 0.6797 - f1_m: 0.6617 - val_loss: 0.8071 - val_accuracy: 0.5577 - val_recall_m: 0.5550 - val_precision_m: 0.5630 - val_f1_m: 0.5505\n",
      "Epoch 42/1000\n",
      "199/199 [==============================] - ETA: 0s - loss: 0.6085 - accuracy: 0.6746 - recall_m: 0.6678 - precision_m: 0.6799 - f1_m: 0.6610\n",
      "Epoch 42: saving model to ../models\\model_MobileNetV3_v1_weights00000042.h5\n",
      "199/199 [==============================] - 193s 968ms/step - loss: 0.6085 - accuracy: 0.6746 - recall_m: 0.6678 - precision_m: 0.6799 - f1_m: 0.6610 - val_loss: 0.8314 - val_accuracy: 0.5551 - val_recall_m: 0.4304 - val_precision_m: 0.5821 - val_f1_m: 0.4827\n",
      "Epoch 43/1000\n",
      "199/199 [==============================] - ETA: 0s - loss: 0.6119 - accuracy: 0.6678 - recall_m: 0.6567 - precision_m: 0.6720 - f1_m: 0.6492\n",
      "Epoch 43: saving model to ../models\\model_MobileNetV3_v1_weights00000043.h5\n",
      "199/199 [==============================] - 193s 966ms/step - loss: 0.6119 - accuracy: 0.6678 - recall_m: 0.6567 - precision_m: 0.6720 - f1_m: 0.6492 - val_loss: 0.8208 - val_accuracy: 0.5532 - val_recall_m: 0.4571 - val_precision_m: 0.5744 - val_f1_m: 0.5000\n",
      "Epoch 44/1000\n",
      "199/199 [==============================] - ETA: 0s - loss: 0.6073 - accuracy: 0.6765 - recall_m: 0.6715 - precision_m: 0.6759 - f1_m: 0.6638\n",
      "Epoch 44: saving model to ../models\\model_MobileNetV3_v1_weights00000044.h5\n",
      "199/199 [==============================] - 193s 968ms/step - loss: 0.6073 - accuracy: 0.6765 - recall_m: 0.6715 - precision_m: 0.6759 - f1_m: 0.6638 - val_loss: 0.8101 - val_accuracy: 0.5564 - val_recall_m: 0.5070 - val_precision_m: 0.5689 - val_f1_m: 0.5286\n",
      "Epoch 45/1000\n",
      "199/199 [==============================] - ETA: 0s - loss: 0.6044 - accuracy: 0.6746 - recall_m: 0.6706 - precision_m: 0.6750 - f1_m: 0.6632\n",
      "Epoch 45: saving model to ../models\\model_MobileNetV3_v1_weights00000045.h5\n",
      "199/199 [==============================] - 193s 966ms/step - loss: 0.6044 - accuracy: 0.6746 - recall_m: 0.6706 - precision_m: 0.6750 - f1_m: 0.6632 - val_loss: 0.8175 - val_accuracy: 0.5570 - val_recall_m: 0.4468 - val_precision_m: 0.5800 - val_f1_m: 0.4958\n",
      "Epoch 46/1000\n",
      "199/199 [==============================] - ETA: 0s - loss: 0.6096 - accuracy: 0.6727 - recall_m: 0.6687 - precision_m: 0.6770 - f1_m: 0.6584\n",
      "Epoch 46: saving model to ../models\\model_MobileNetV3_v1_weights00000046.h5\n",
      "199/199 [==============================] - 193s 969ms/step - loss: 0.6096 - accuracy: 0.6727 - recall_m: 0.6687 - precision_m: 0.6770 - f1_m: 0.6584 - val_loss: 0.8040 - val_accuracy: 0.5570 - val_recall_m: 0.5699 - val_precision_m: 0.5599 - val_f1_m: 0.5574\n",
      "Epoch 47/1000\n",
      "199/199 [==============================] - ETA: 0s - loss: 0.6144 - accuracy: 0.6729 - recall_m: 0.6630 - precision_m: 0.6776 - f1_m: 0.6552\n",
      "Epoch 47: saving model to ../models\\model_MobileNetV3_v1_weights00000047.h5\n",
      "199/199 [==============================] - 193s 968ms/step - loss: 0.6144 - accuracy: 0.6729 - recall_m: 0.6630 - precision_m: 0.6776 - f1_m: 0.6552 - val_loss: 0.8063 - val_accuracy: 0.5558 - val_recall_m: 0.5128 - val_precision_m: 0.5664 - val_f1_m: 0.5294\n",
      "Epoch 48/1000\n",
      "199/199 [==============================] - ETA: 0s - loss: 0.6073 - accuracy: 0.6748 - recall_m: 0.6750 - precision_m: 0.6799 - f1_m: 0.6630\n",
      "Epoch 48: saving model to ../models\\model_MobileNetV3_v1_weights00000048.h5\n",
      "199/199 [==============================] - 193s 970ms/step - loss: 0.6073 - accuracy: 0.6748 - recall_m: 0.6750 - precision_m: 0.6799 - f1_m: 0.6630 - val_loss: 0.8167 - val_accuracy: 0.5545 - val_recall_m: 0.4415 - val_precision_m: 0.5724 - val_f1_m: 0.4899\n",
      "Epoch 49/1000\n",
      "199/199 [==============================] - ETA: 0s - loss: 0.6081 - accuracy: 0.6727 - recall_m: 0.6654 - precision_m: 0.6730 - f1_m: 0.6556\n",
      "Epoch 49: saving model to ../models\\model_MobileNetV3_v1_weights00000049.h5\n",
      "199/199 [==============================] - 194s 975ms/step - loss: 0.6081 - accuracy: 0.6727 - recall_m: 0.6654 - precision_m: 0.6730 - f1_m: 0.6556 - val_loss: 0.8264 - val_accuracy: 0.5539 - val_recall_m: 0.4169 - val_precision_m: 0.5794 - val_f1_m: 0.4761\n",
      "Epoch 50/1000\n",
      "199/199 [==============================] - ETA: 0s - loss: 0.6088 - accuracy: 0.6711 - recall_m: 0.6678 - precision_m: 0.6755 - f1_m: 0.6575\n",
      "Epoch 50: saving model to ../models\\model_MobileNetV3_v1_weights00000050.h5\n",
      "199/199 [==============================] - 194s 972ms/step - loss: 0.6088 - accuracy: 0.6711 - recall_m: 0.6678 - precision_m: 0.6755 - f1_m: 0.6575 - val_loss: 0.8216 - val_accuracy: 0.5532 - val_recall_m: 0.4207 - val_precision_m: 0.5667 - val_f1_m: 0.4754\n",
      "Epoch 51/1000\n",
      "199/199 [==============================] - ETA: 0s - loss: 0.6033 - accuracy: 0.6771 - recall_m: 0.6701 - precision_m: 0.6772 - f1_m: 0.6634\n",
      "Epoch 51: saving model to ../models\\model_MobileNetV3_v1_weights00000051.h5\n",
      "199/199 [==============================] - 194s 971ms/step - loss: 0.6033 - accuracy: 0.6771 - recall_m: 0.6701 - precision_m: 0.6772 - f1_m: 0.6634 - val_loss: 0.8038 - val_accuracy: 0.5583 - val_recall_m: 0.4945 - val_precision_m: 0.5727 - val_f1_m: 0.5224\n",
      "Epoch 52/1000\n",
      "199/199 [==============================] - ETA: 0s - loss: 0.6067 - accuracy: 0.6732 - recall_m: 0.6702 - precision_m: 0.6763 - f1_m: 0.6607\n",
      "Epoch 52: saving model to ../models\\model_MobileNetV3_v1_weights00000052.h5\n",
      "199/199 [==============================] - 194s 971ms/step - loss: 0.6067 - accuracy: 0.6732 - recall_m: 0.6702 - precision_m: 0.6763 - f1_m: 0.6607 - val_loss: 0.8202 - val_accuracy: 0.5469 - val_recall_m: 0.4252 - val_precision_m: 0.5619 - val_f1_m: 0.4737\n",
      "Epoch 53/1000\n",
      "199/199 [==============================] - ETA: 0s - loss: 0.6020 - accuracy: 0.6752 - recall_m: 0.6648 - precision_m: 0.6722 - f1_m: 0.6586\n",
      "Epoch 53: saving model to ../models\\model_MobileNetV3_v1_weights00000053.h5\n",
      "199/199 [==============================] - 194s 972ms/step - loss: 0.6020 - accuracy: 0.6752 - recall_m: 0.6648 - precision_m: 0.6722 - f1_m: 0.6586 - val_loss: 0.7980 - val_accuracy: 0.5558 - val_recall_m: 0.5881 - val_precision_m: 0.5555 - val_f1_m: 0.5631\n",
      "Epoch 54/1000\n",
      "199/199 [==============================] - ETA: 0s - loss: 0.6035 - accuracy: 0.6746 - recall_m: 0.6693 - precision_m: 0.6784 - f1_m: 0.6618\n",
      "Epoch 54: saving model to ../models\\model_MobileNetV3_v1_weights00000054.h5\n",
      "199/199 [==============================] - 194s 972ms/step - loss: 0.6035 - accuracy: 0.6746 - recall_m: 0.6693 - precision_m: 0.6784 - f1_m: 0.6618 - val_loss: 0.8077 - val_accuracy: 0.5564 - val_recall_m: 0.4720 - val_precision_m: 0.5709 - val_f1_m: 0.5094\n",
      "Epoch 55/1000\n",
      "199/199 [==============================] - ETA: 0s - loss: 0.6030 - accuracy: 0.6755 - recall_m: 0.6684 - precision_m: 0.6733 - f1_m: 0.6613\n",
      "Epoch 55: saving model to ../models\\model_MobileNetV3_v1_weights00000055.h5\n",
      "199/199 [==============================] - 194s 973ms/step - loss: 0.6030 - accuracy: 0.6755 - recall_m: 0.6684 - precision_m: 0.6733 - f1_m: 0.6613 - val_loss: 0.7997 - val_accuracy: 0.5652 - val_recall_m: 0.5493 - val_precision_m: 0.5678 - val_f1_m: 0.5515\n",
      "Epoch 56/1000\n",
      "199/199 [==============================] - ETA: 0s - loss: 0.6033 - accuracy: 0.6755 - recall_m: 0.6723 - precision_m: 0.6781 - f1_m: 0.6645\n",
      "Epoch 56: saving model to ../models\\model_MobileNetV3_v1_weights00000056.h5\n",
      "199/199 [==============================] - 193s 970ms/step - loss: 0.6033 - accuracy: 0.6755 - recall_m: 0.6723 - precision_m: 0.6781 - f1_m: 0.6645 - val_loss: 0.8176 - val_accuracy: 0.5526 - val_recall_m: 0.4340 - val_precision_m: 0.5744 - val_f1_m: 0.4882\n",
      "Epoch 57/1000\n",
      "199/199 [==============================] - ETA: 0s - loss: 0.5997 - accuracy: 0.6777 - recall_m: 0.6664 - precision_m: 0.6781 - f1_m: 0.6624\n",
      "Epoch 57: saving model to ../models\\model_MobileNetV3_v1_weights00000057.h5\n",
      "199/199 [==============================] - 194s 972ms/step - loss: 0.5997 - accuracy: 0.6777 - recall_m: 0.6664 - precision_m: 0.6781 - f1_m: 0.6624 - val_loss: 0.8072 - val_accuracy: 0.5539 - val_recall_m: 0.4566 - val_precision_m: 0.5686 - val_f1_m: 0.4993\n",
      "Epoch 58/1000\n",
      "199/199 [==============================] - ETA: 0s - loss: 0.5995 - accuracy: 0.6755 - recall_m: 0.6695 - precision_m: 0.6736 - f1_m: 0.6627\n",
      "Epoch 58: saving model to ../models\\model_MobileNetV3_v1_weights00000058.h5\n",
      "199/199 [==============================] - 193s 969ms/step - loss: 0.5995 - accuracy: 0.6755 - recall_m: 0.6695 - precision_m: 0.6736 - f1_m: 0.6627 - val_loss: 0.8229 - val_accuracy: 0.5558 - val_recall_m: 0.4135 - val_precision_m: 0.5807 - val_f1_m: 0.4756\n",
      "Epoch 59/1000\n",
      "199/199 [==============================] - ETA: 0s - loss: 0.5993 - accuracy: 0.6839 - recall_m: 0.6760 - precision_m: 0.6814 - f1_m: 0.6682\n",
      "Epoch 59: saving model to ../models\\model_MobileNetV3_v1_weights00000059.h5\n",
      "199/199 [==============================] - 194s 973ms/step - loss: 0.5993 - accuracy: 0.6839 - recall_m: 0.6760 - precision_m: 0.6814 - f1_m: 0.6682 - val_loss: 0.7952 - val_accuracy: 0.5602 - val_recall_m: 0.5421 - val_precision_m: 0.5647 - val_f1_m: 0.5462\n",
      "Epoch 60/1000\n",
      "199/199 [==============================] - ETA: 0s - loss: 0.6002 - accuracy: 0.6774 - recall_m: 0.6683 - precision_m: 0.6730 - f1_m: 0.6613\n",
      "Epoch 60: saving model to ../models\\model_MobileNetV3_v1_weights00000060.h5\n",
      "199/199 [==============================] - 194s 972ms/step - loss: 0.6002 - accuracy: 0.6774 - recall_m: 0.6683 - precision_m: 0.6730 - f1_m: 0.6613 - val_loss: 0.7974 - val_accuracy: 0.5595 - val_recall_m: 0.5210 - val_precision_m: 0.5652 - val_f1_m: 0.5358\n",
      "Epoch 61/1000\n",
      "199/199 [==============================] - ETA: 0s - loss: 0.6006 - accuracy: 0.6743 - recall_m: 0.6747 - precision_m: 0.6761 - f1_m: 0.6633\n",
      "Epoch 61: saving model to ../models\\model_MobileNetV3_v1_weights00000061.h5\n",
      "199/199 [==============================] - 193s 968ms/step - loss: 0.6006 - accuracy: 0.6743 - recall_m: 0.6747 - precision_m: 0.6761 - f1_m: 0.6633 - val_loss: 0.7947 - val_accuracy: 0.5608 - val_recall_m: 0.5360 - val_precision_m: 0.5638 - val_f1_m: 0.5434\n",
      "Epoch 62/1000\n",
      "199/199 [==============================] - ETA: 0s - loss: 0.6022 - accuracy: 0.6782 - recall_m: 0.6727 - precision_m: 0.6834 - f1_m: 0.6651\n",
      "Epoch 62: saving model to ../models\\model_MobileNetV3_v1_weights00000062.h5\n",
      "199/199 [==============================] - 193s 969ms/step - loss: 0.6022 - accuracy: 0.6782 - recall_m: 0.6727 - precision_m: 0.6834 - f1_m: 0.6651 - val_loss: 0.8104 - val_accuracy: 0.5545 - val_recall_m: 0.4397 - val_precision_m: 0.5850 - val_f1_m: 0.4932\n",
      "Epoch 63/1000\n",
      "199/199 [==============================] - ETA: 0s - loss: 0.5960 - accuracy: 0.6792 - recall_m: 0.6702 - precision_m: 0.6826 - f1_m: 0.6672\n",
      "Epoch 63: saving model to ../models\\model_MobileNetV3_v1_weights00000063.h5\n",
      "199/199 [==============================] - 194s 971ms/step - loss: 0.5960 - accuracy: 0.6792 - recall_m: 0.6702 - precision_m: 0.6826 - f1_m: 0.6672 - val_loss: 0.8007 - val_accuracy: 0.5589 - val_recall_m: 0.4861 - val_precision_m: 0.5764 - val_f1_m: 0.5180\n",
      "Epoch 64/1000\n",
      "199/199 [==============================] - ETA: 0s - loss: 0.6007 - accuracy: 0.6771 - recall_m: 0.6715 - precision_m: 0.6741 - f1_m: 0.6593\n",
      "Epoch 64: saving model to ../models\\model_MobileNetV3_v1_weights00000064.h5\n",
      "199/199 [==============================] - 194s 975ms/step - loss: 0.6007 - accuracy: 0.6771 - recall_m: 0.6715 - precision_m: 0.6741 - f1_m: 0.6593 - val_loss: 0.8052 - val_accuracy: 0.5539 - val_recall_m: 0.4554 - val_precision_m: 0.5739 - val_f1_m: 0.5009\n",
      "Epoch 65/1000\n",
      "199/199 [==============================] - ETA: 0s - loss: 0.6033 - accuracy: 0.6777 - recall_m: 0.6731 - precision_m: 0.6849 - f1_m: 0.6640\n",
      "Epoch 65: saving model to ../models\\model_MobileNetV3_v1_weights00000065.h5\n",
      "199/199 [==============================] - 194s 972ms/step - loss: 0.6033 - accuracy: 0.6777 - recall_m: 0.6731 - precision_m: 0.6849 - f1_m: 0.6640 - val_loss: 0.8016 - val_accuracy: 0.5558 - val_recall_m: 0.4746 - val_precision_m: 0.5695 - val_f1_m: 0.5099\n",
      "Epoch 66/1000\n",
      "199/199 [==============================] - ETA: 0s - loss: 0.5975 - accuracy: 0.6785 - recall_m: 0.6740 - precision_m: 0.6819 - f1_m: 0.6672\n",
      "Epoch 66: saving model to ../models\\model_MobileNetV3_v1_weights00000066.h5\n",
      "199/199 [==============================] - 193s 969ms/step - loss: 0.5975 - accuracy: 0.6785 - recall_m: 0.6740 - precision_m: 0.6819 - f1_m: 0.6672 - val_loss: 0.7979 - val_accuracy: 0.5595 - val_recall_m: 0.4884 - val_precision_m: 0.5718 - val_f1_m: 0.5205\n",
      "Epoch 67/1000\n",
      "199/199 [==============================] - ETA: 0s - loss: 0.6013 - accuracy: 0.6765 - recall_m: 0.6658 - precision_m: 0.6805 - f1_m: 0.6619\n",
      "Epoch 67: saving model to ../models\\model_MobileNetV3_v1_weights00000067.h5\n",
      "199/199 [==============================] - 194s 971ms/step - loss: 0.6013 - accuracy: 0.6765 - recall_m: 0.6658 - precision_m: 0.6805 - f1_m: 0.6619 - val_loss: 0.8089 - val_accuracy: 0.5551 - val_recall_m: 0.4401 - val_precision_m: 0.5768 - val_f1_m: 0.4890\n",
      "Epoch 68/1000\n",
      "199/199 [==============================] - ETA: 0s - loss: 0.5968 - accuracy: 0.6815 - recall_m: 0.6726 - precision_m: 0.6819 - f1_m: 0.6678\n",
      "Epoch 68: saving model to ../models\\model_MobileNetV3_v1_weights00000068.h5\n",
      "199/199 [==============================] - 194s 974ms/step - loss: 0.5968 - accuracy: 0.6815 - recall_m: 0.6726 - precision_m: 0.6819 - f1_m: 0.6678 - val_loss: 0.7966 - val_accuracy: 0.5621 - val_recall_m: 0.5011 - val_precision_m: 0.5750 - val_f1_m: 0.5276\n",
      "Epoch 69/1000\n",
      "199/199 [==============================] - ETA: 0s - loss: 0.5978 - accuracy: 0.6833 - recall_m: 0.6835 - precision_m: 0.6857 - f1_m: 0.6739\n",
      "Epoch 69: saving model to ../models\\model_MobileNetV3_v1_weights00000069.h5\n",
      "199/199 [==============================] - 194s 975ms/step - loss: 0.5978 - accuracy: 0.6833 - recall_m: 0.6835 - precision_m: 0.6857 - f1_m: 0.6739 - val_loss: 0.7972 - val_accuracy: 0.5608 - val_recall_m: 0.4917 - val_precision_m: 0.5755 - val_f1_m: 0.5200\n",
      "Epoch 69: early stopping\n"
     ]
    }
   ],
   "source": [
    "base_model_mobilenetv3 = keras.applications.MobileNetV3Large(weights = 'imagenet', include_top = False)\n",
    "\n",
    "model_dir = '../models'\n",
    "model_uuid = 'model_MobileNetV3_v1'\n",
    "\n",
    "for layer in base_model_mobilenetv3.layers:\n",
    "    layer.trainable = False\n",
    "\n",
    "avg = keras.layers.GlobalAveragePooling2D()(base_model_mobilenetv3.output)\n",
    "output = keras.layers.Dense(1, activation = 'sigmoid')(avg)\n",
    "model_mobilenetv3 = keras.Model(inputs = base_model_mobilenetv3.input, outputs = output)\n",
    "\n",
    "early_stopping = EarlyStopping(monitor='val_loss', verbose=2, patience=10, min_delta=.00250)\n",
    "model_checkpoint = ModelCheckpoint(f'{model_dir}/{model_uuid}_weights{{epoch:08d}}.h5', verbose = 2, save_best_only=False, period=1)\n",
    "csv_logger = CSVLogger(f'{model_dir}/{model_uuid}.csv', separator = ',', append = True)\n",
    "\n",
    "optimizer = keras.optimizers.SGD(learning_rate = 0.2, momentum = 0.9, decay = 0.01)\n",
    "model_mobilenetv3.compile(loss = 'binary_crossentropy', optimizer = optimizer,  metrics = ['accuracy', recall_m, precision_m, f1_m])\n",
    "\n",
    "results = model_mobilenetv3.fit_generator(train_data,\n",
    "    epochs=1000,\n",
    "    validation_data=val_data,\n",
    "    callbacks=[early_stopping, model_checkpoint, csv_logger])"
   ]
  },
  {
   "cell_type": "markdown",
   "metadata": {},
   "source": [
    "## Logistic regression & RF"
   ]
  },
  {
   "cell_type": "code",
   "execution_count": 9,
   "metadata": {},
   "outputs": [
    {
     "name": "stdout",
     "output_type": "stream",
     "text": [
      "Found 7936 images belonging to 2 classes.\n",
      "Found 1974 images belonging to 2 classes.\n"
     ]
    }
   ],
   "source": [
    "train_imgs = keras.preprocessing.image.ImageDataGenerator(rescale=1./255).flow_from_directory('../created_data/train', batch_size=8000)\n",
    "test_imgs = keras.preprocessing.image.ImageDataGenerator(rescale=1./255).flow_from_directory('../created_data/test', batch_size=2000)"
   ]
  },
  {
   "cell_type": "code",
   "execution_count": 11,
   "metadata": {},
   "outputs": [],
   "source": [
    "from sklearn.model_selection import train_test_split\n",
    "\n",
    "X_i, y_i = next(train_imgs)\n",
    "X_test, y_test = next(test_imgs)\n",
    "X_train, X_val, y_train, y_val = train_test_split(X_i, y_i, train_size = 0.75, random_state = seed)"
   ]
  },
  {
   "cell_type": "code",
   "execution_count": 15,
   "metadata": {},
   "outputs": [
    {
     "name": "stdout",
     "output_type": "stream",
     "text": [
      "(5952, 256, 256, 3)\n",
      "(1984, 256, 256, 3)\n",
      "(1974, 256, 256, 3)\n"
     ]
    }
   ],
   "source": [
    "print(X_train.shape)\n",
    "print(X_val.shape)\n",
    "print(X_test.shape)"
   ]
  },
  {
   "cell_type": "code",
   "execution_count": 16,
   "metadata": {},
   "outputs": [
    {
     "name": "stdout",
     "output_type": "stream",
     "text": [
      "(5952, 196608)\n",
      "(1984, 196608)\n",
      "(1974, 196608)\n"
     ]
    }
   ],
   "source": [
    "X_train = X_train.reshape(5952, -1)\n",
    "X_val = X_val.reshape(1984, -1)\n",
    "X_test = X_test.reshape(1974, -1)\n",
    "\n",
    "print(X_train.shape)\n",
    "print(X_val.shape)\n",
    "print(X_test.shape)"
   ]
  },
  {
   "cell_type": "code",
   "execution_count": 17,
   "metadata": {},
   "outputs": [
    {
     "name": "stdout",
     "output_type": "stream",
     "text": [
      "(5952,)\n",
      "(1984,)\n",
      "(1974,)\n"
     ]
    }
   ],
   "source": [
    "y_train = y_train[:,1]\n",
    "y_val = y_val[:,1]\n",
    "y_test = y_test[:,1]\n",
    "\n",
    "print(y_train.shape)\n",
    "print(y_val.shape)\n",
    "print(y_test.shape)"
   ]
  },
  {
   "cell_type": "code",
   "execution_count": 18,
   "metadata": {},
   "outputs": [
    {
     "name": "stderr",
     "output_type": "stream",
     "text": [
      "c:\\Users\\nicho\\anaconda3\\envs\\capstone-env\\lib\\site-packages\\sklearn\\linear_model\\_logistic.py:444: ConvergenceWarning: lbfgs failed to converge (status=1):\n",
      "STOP: TOTAL NO. of ITERATIONS REACHED LIMIT.\n",
      "\n",
      "Increase the number of iterations (max_iter) or scale the data as shown in:\n",
      "    https://scikit-learn.org/stable/modules/preprocessing.html\n",
      "Please also refer to the documentation for alternative solver options:\n",
      "    https://scikit-learn.org/stable/modules/linear_model.html#logistic-regression\n",
      "  n_iter_i = _check_optimize_result(\n"
     ]
    },
    {
     "data": {
      "text/html": [
       "<style>#sk-container-id-1 {color: black;background-color: white;}#sk-container-id-1 pre{padding: 0;}#sk-container-id-1 div.sk-toggleable {background-color: white;}#sk-container-id-1 label.sk-toggleable__label {cursor: pointer;display: block;width: 100%;margin-bottom: 0;padding: 0.3em;box-sizing: border-box;text-align: center;}#sk-container-id-1 label.sk-toggleable__label-arrow:before {content: \"▸\";float: left;margin-right: 0.25em;color: #696969;}#sk-container-id-1 label.sk-toggleable__label-arrow:hover:before {color: black;}#sk-container-id-1 div.sk-estimator:hover label.sk-toggleable__label-arrow:before {color: black;}#sk-container-id-1 div.sk-toggleable__content {max-height: 0;max-width: 0;overflow: hidden;text-align: left;background-color: #f0f8ff;}#sk-container-id-1 div.sk-toggleable__content pre {margin: 0.2em;color: black;border-radius: 0.25em;background-color: #f0f8ff;}#sk-container-id-1 input.sk-toggleable__control:checked~div.sk-toggleable__content {max-height: 200px;max-width: 100%;overflow: auto;}#sk-container-id-1 input.sk-toggleable__control:checked~label.sk-toggleable__label-arrow:before {content: \"▾\";}#sk-container-id-1 div.sk-estimator input.sk-toggleable__control:checked~label.sk-toggleable__label {background-color: #d4ebff;}#sk-container-id-1 div.sk-label input.sk-toggleable__control:checked~label.sk-toggleable__label {background-color: #d4ebff;}#sk-container-id-1 input.sk-hidden--visually {border: 0;clip: rect(1px 1px 1px 1px);clip: rect(1px, 1px, 1px, 1px);height: 1px;margin: -1px;overflow: hidden;padding: 0;position: absolute;width: 1px;}#sk-container-id-1 div.sk-estimator {font-family: monospace;background-color: #f0f8ff;border: 1px dotted black;border-radius: 0.25em;box-sizing: border-box;margin-bottom: 0.5em;}#sk-container-id-1 div.sk-estimator:hover {background-color: #d4ebff;}#sk-container-id-1 div.sk-parallel-item::after {content: \"\";width: 100%;border-bottom: 1px solid gray;flex-grow: 1;}#sk-container-id-1 div.sk-label:hover label.sk-toggleable__label {background-color: #d4ebff;}#sk-container-id-1 div.sk-serial::before {content: \"\";position: absolute;border-left: 1px solid gray;box-sizing: border-box;top: 0;bottom: 0;left: 50%;z-index: 0;}#sk-container-id-1 div.sk-serial {display: flex;flex-direction: column;align-items: center;background-color: white;padding-right: 0.2em;padding-left: 0.2em;position: relative;}#sk-container-id-1 div.sk-item {position: relative;z-index: 1;}#sk-container-id-1 div.sk-parallel {display: flex;align-items: stretch;justify-content: center;background-color: white;position: relative;}#sk-container-id-1 div.sk-item::before, #sk-container-id-1 div.sk-parallel-item::before {content: \"\";position: absolute;border-left: 1px solid gray;box-sizing: border-box;top: 0;bottom: 0;left: 50%;z-index: -1;}#sk-container-id-1 div.sk-parallel-item {display: flex;flex-direction: column;z-index: 1;position: relative;background-color: white;}#sk-container-id-1 div.sk-parallel-item:first-child::after {align-self: flex-end;width: 50%;}#sk-container-id-1 div.sk-parallel-item:last-child::after {align-self: flex-start;width: 50%;}#sk-container-id-1 div.sk-parallel-item:only-child::after {width: 0;}#sk-container-id-1 div.sk-dashed-wrapped {border: 1px dashed gray;margin: 0 0.4em 0.5em 0.4em;box-sizing: border-box;padding-bottom: 0.4em;background-color: white;}#sk-container-id-1 div.sk-label label {font-family: monospace;font-weight: bold;display: inline-block;line-height: 1.2em;}#sk-container-id-1 div.sk-label-container {text-align: center;}#sk-container-id-1 div.sk-container {/* jupyter's `normalize.less` sets `[hidden] { display: none; }` but bootstrap.min.css set `[hidden] { display: none !important; }` so we also need the `!important` here to be able to override the default hidden behavior on the sphinx rendered scikit-learn.org. See: https://github.com/scikit-learn/scikit-learn/issues/21755 */display: inline-block !important;position: relative;}#sk-container-id-1 div.sk-text-repr-fallback {display: none;}</style><div id=\"sk-container-id-1\" class=\"sk-top-container\"><div class=\"sk-text-repr-fallback\"><pre>LogisticRegression()</pre><b>In a Jupyter environment, please rerun this cell to show the HTML representation or trust the notebook. <br />On GitHub, the HTML representation is unable to render, please try loading this page with nbviewer.org.</b></div><div class=\"sk-container\" hidden><div class=\"sk-item\"><div class=\"sk-estimator sk-toggleable\"><input class=\"sk-toggleable__control sk-hidden--visually\" id=\"sk-estimator-id-1\" type=\"checkbox\" checked><label for=\"sk-estimator-id-1\" class=\"sk-toggleable__label sk-toggleable__label-arrow\">LogisticRegression</label><div class=\"sk-toggleable__content\"><pre>LogisticRegression()</pre></div></div></div></div></div>"
      ],
      "text/plain": [
       "LogisticRegression()"
      ]
     },
     "execution_count": 18,
     "metadata": {},
     "output_type": "execute_result"
    }
   ],
   "source": [
    "from sklearn.linear_model import LogisticRegression\n",
    "\n",
    "lr = LogisticRegression()\n",
    "lr.fit(X_train,y_train)"
   ]
  },
  {
   "cell_type": "code",
   "execution_count": 23,
   "metadata": {},
   "outputs": [
    {
     "data": {
      "text/plain": [
       "(0.5146316851664985, 0.5207700101317123)"
      ]
     },
     "execution_count": 23,
     "metadata": {},
     "output_type": "execute_result"
    }
   ],
   "source": [
    "from sklearn.metrics import precision_score, accuracy_score\n",
    "\n",
    "lr_pred = lr.predict(X_test)\n",
    "\n",
    "precision_score(y_test, lr_pred), accuracy_score(y_test, lr_pred)"
   ]
  },
  {
   "cell_type": "code",
   "execution_count": 22,
   "metadata": {},
   "outputs": [
    {
     "data": {
      "text/html": [
       "<style>#sk-container-id-2 {color: black;background-color: white;}#sk-container-id-2 pre{padding: 0;}#sk-container-id-2 div.sk-toggleable {background-color: white;}#sk-container-id-2 label.sk-toggleable__label {cursor: pointer;display: block;width: 100%;margin-bottom: 0;padding: 0.3em;box-sizing: border-box;text-align: center;}#sk-container-id-2 label.sk-toggleable__label-arrow:before {content: \"▸\";float: left;margin-right: 0.25em;color: #696969;}#sk-container-id-2 label.sk-toggleable__label-arrow:hover:before {color: black;}#sk-container-id-2 div.sk-estimator:hover label.sk-toggleable__label-arrow:before {color: black;}#sk-container-id-2 div.sk-toggleable__content {max-height: 0;max-width: 0;overflow: hidden;text-align: left;background-color: #f0f8ff;}#sk-container-id-2 div.sk-toggleable__content pre {margin: 0.2em;color: black;border-radius: 0.25em;background-color: #f0f8ff;}#sk-container-id-2 input.sk-toggleable__control:checked~div.sk-toggleable__content {max-height: 200px;max-width: 100%;overflow: auto;}#sk-container-id-2 input.sk-toggleable__control:checked~label.sk-toggleable__label-arrow:before {content: \"▾\";}#sk-container-id-2 div.sk-estimator input.sk-toggleable__control:checked~label.sk-toggleable__label {background-color: #d4ebff;}#sk-container-id-2 div.sk-label input.sk-toggleable__control:checked~label.sk-toggleable__label {background-color: #d4ebff;}#sk-container-id-2 input.sk-hidden--visually {border: 0;clip: rect(1px 1px 1px 1px);clip: rect(1px, 1px, 1px, 1px);height: 1px;margin: -1px;overflow: hidden;padding: 0;position: absolute;width: 1px;}#sk-container-id-2 div.sk-estimator {font-family: monospace;background-color: #f0f8ff;border: 1px dotted black;border-radius: 0.25em;box-sizing: border-box;margin-bottom: 0.5em;}#sk-container-id-2 div.sk-estimator:hover {background-color: #d4ebff;}#sk-container-id-2 div.sk-parallel-item::after {content: \"\";width: 100%;border-bottom: 1px solid gray;flex-grow: 1;}#sk-container-id-2 div.sk-label:hover label.sk-toggleable__label {background-color: #d4ebff;}#sk-container-id-2 div.sk-serial::before {content: \"\";position: absolute;border-left: 1px solid gray;box-sizing: border-box;top: 0;bottom: 0;left: 50%;z-index: 0;}#sk-container-id-2 div.sk-serial {display: flex;flex-direction: column;align-items: center;background-color: white;padding-right: 0.2em;padding-left: 0.2em;position: relative;}#sk-container-id-2 div.sk-item {position: relative;z-index: 1;}#sk-container-id-2 div.sk-parallel {display: flex;align-items: stretch;justify-content: center;background-color: white;position: relative;}#sk-container-id-2 div.sk-item::before, #sk-container-id-2 div.sk-parallel-item::before {content: \"\";position: absolute;border-left: 1px solid gray;box-sizing: border-box;top: 0;bottom: 0;left: 50%;z-index: -1;}#sk-container-id-2 div.sk-parallel-item {display: flex;flex-direction: column;z-index: 1;position: relative;background-color: white;}#sk-container-id-2 div.sk-parallel-item:first-child::after {align-self: flex-end;width: 50%;}#sk-container-id-2 div.sk-parallel-item:last-child::after {align-self: flex-start;width: 50%;}#sk-container-id-2 div.sk-parallel-item:only-child::after {width: 0;}#sk-container-id-2 div.sk-dashed-wrapped {border: 1px dashed gray;margin: 0 0.4em 0.5em 0.4em;box-sizing: border-box;padding-bottom: 0.4em;background-color: white;}#sk-container-id-2 div.sk-label label {font-family: monospace;font-weight: bold;display: inline-block;line-height: 1.2em;}#sk-container-id-2 div.sk-label-container {text-align: center;}#sk-container-id-2 div.sk-container {/* jupyter's `normalize.less` sets `[hidden] { display: none; }` but bootstrap.min.css set `[hidden] { display: none !important; }` so we also need the `!important` here to be able to override the default hidden behavior on the sphinx rendered scikit-learn.org. See: https://github.com/scikit-learn/scikit-learn/issues/21755 */display: inline-block !important;position: relative;}#sk-container-id-2 div.sk-text-repr-fallback {display: none;}</style><div id=\"sk-container-id-2\" class=\"sk-top-container\"><div class=\"sk-text-repr-fallback\"><pre>RandomForestClassifier()</pre><b>In a Jupyter environment, please rerun this cell to show the HTML representation or trust the notebook. <br />On GitHub, the HTML representation is unable to render, please try loading this page with nbviewer.org.</b></div><div class=\"sk-container\" hidden><div class=\"sk-item\"><div class=\"sk-estimator sk-toggleable\"><input class=\"sk-toggleable__control sk-hidden--visually\" id=\"sk-estimator-id-2\" type=\"checkbox\" checked><label for=\"sk-estimator-id-2\" class=\"sk-toggleable__label sk-toggleable__label-arrow\">RandomForestClassifier</label><div class=\"sk-toggleable__content\"><pre>RandomForestClassifier()</pre></div></div></div></div></div>"
      ],
      "text/plain": [
       "RandomForestClassifier()"
      ]
     },
     "execution_count": 22,
     "metadata": {},
     "output_type": "execute_result"
    }
   ],
   "source": [
    "from sklearn.ensemble import RandomForestClassifier\n",
    "\n",
    "rf = RandomForestClassifier()\n",
    "rf.fit(X_train, y_train)"
   ]
  },
  {
   "cell_type": "code",
   "execution_count": 24,
   "metadata": {},
   "outputs": [
    {
     "data": {
      "text/plain": [
       "(0.4727694090382387, 0.48226950354609927)"
      ]
     },
     "execution_count": 24,
     "metadata": {},
     "output_type": "execute_result"
    }
   ],
   "source": [
    "rf_pred = rf.predict(X_test)\n",
    "\n",
    "precision_score(y_test, rf_pred), accuracy_score(y_test, rf_pred)"
   ]
  },
  {
   "cell_type": "markdown",
   "metadata": {},
   "source": []
  }
 ],
 "metadata": {
  "kernelspec": {
   "display_name": "Python 3.10.6 ('capstone-env')",
   "language": "python",
   "name": "python3"
  },
  "language_info": {
   "codemirror_mode": {
    "name": "ipython",
    "version": 3
   },
   "file_extension": ".py",
   "mimetype": "text/x-python",
   "name": "python",
   "nbconvert_exporter": "python",
   "pygments_lexer": "ipython3",
   "version": "3.10.8"
  },
  "orig_nbformat": 4,
  "vscode": {
   "interpreter": {
    "hash": "948fb5d5b69e8e6148da914366d7e8ec0c2c8a66958644710cf8e6ff284ce85b"
   }
  }
 },
 "nbformat": 4,
 "nbformat_minor": 2
}
