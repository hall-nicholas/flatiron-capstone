{
 "cells": [
  {
   "cell_type": "code",
   "execution_count": 1,
   "metadata": {},
   "outputs": [],
   "source": [
    "import numpy as np\n",
    "import matplotlib.pyplot as plt\n",
    "from pycocotools.coco import COCO\n",
    "import cv2\n",
    "\n",
    "import functions as fn"
   ]
  },
  {
   "cell_type": "code",
   "execution_count": 2,
   "metadata": {},
   "outputs": [
    {
     "name": "stdout",
     "output_type": "stream",
     "text": [
      "loading annotations into memory...\n",
      "Done (t=10.18s)\n",
      "creating index...\n",
      "index created!\n",
      "loading annotations into memory...\n",
      "Done (t=0.39s)\n",
      "creating index...\n",
      "index created!\n"
     ]
    }
   ],
   "source": [
    "dataDir='../data'\n",
    "trainDir='train2017'\n",
    "valDir='val2017'\n",
    "seed=42\n",
    "transformed=.5\n",
    "train=.6\n",
    "val=.2\n",
    "test = 1 - train - val\n",
    "strategy_list = ['left', 'right']\n",
    "\n",
    "np.random.seed(seed)\n",
    "\n",
    "trainAnn=f'{dataDir}/annotations/instances_{trainDir}.json'\n",
    "valAnn=f'{dataDir}/annotations/instances_{valDir}.json'\n",
    "\n",
    "cocoTrain=COCO(trainAnn)\n",
    "cocoVal=COCO(valAnn)\n",
    "\n",
    "catIdsTrain = cocoTrain.getCatIds(catNms=['person'])\n",
    "imgIdsTrain = cocoTrain.getImgIds(catIds=catIdsTrain)\n",
    "imgIdsTrain = cocoTrain.getImgIds(imgIds=imgIdsTrain)\n",
    "annIdsTrain = cocoTrain.getAnnIds(imgIds=imgIdsTrain, catIds=catIdsTrain, iscrowd=None)\n",
    "\n",
    "catIdsVal = cocoVal.getCatIds(catNms=['person'])\n",
    "imgIdsVal = cocoVal.getImgIds(catIds=catIdsVal)\n",
    "imgIdsVal = cocoVal.getImgIds(imgIds=imgIdsVal)\n",
    "annIdsVal = cocoVal.getAnnIds(imgIds=imgIdsVal, catIds=catIdsVal, iscrowd=None)"
   ]
  },
  {
   "cell_type": "code",
   "execution_count": 47,
   "metadata": {},
   "outputs": [
    {
     "name": "stdout",
     "output_type": "stream",
     "text": [
      "0 right\n"
     ]
    }
   ],
   "source": [
    "count = 0\n",
    "limit = 10\n",
    "\n",
    "# 69 as control\n",
    "# 42 works\n",
    "\n",
    "idx = 7\n",
    "\n",
    "testImg = cocoTrain.loadImgs(imgIdsTrain[idx])[0]\n",
    "testAnn = cocoTrain.loadAnns(cocoTrain.getAnnIds(imgIds=testImg['id'], catIds=catIdsTrain, iscrowd=None))\n",
    "\n",
    "fpath = '{}/{}/{}'.format(dataDir, trainDir, testImg['file_name'])\n",
    "\n",
    "testImgArr = cv2.imread(fpath)\n",
    "\n",
    "fn.remove_true_blacks(testImgArr)\n",
    "\n",
    "whichAnn = np.random.randint(0, len(testAnn))\n",
    "\n",
    "testSpecAnn = testAnn[whichAnn] # np.random.randint(0, len(testAnn))\n",
    "strategy = strategy_list[np.random.randint(0, len(strategy_list))]\n",
    "\n",
    "strategy='right'\n",
    "\n",
    "print(whichAnn, strategy)\n",
    "\n",
    "maskedTest, maskedTestInv = fn.generate_masked_images(testImgArr, testSpecAnn)\n",
    "\n",
    "newMaskedTest = fn.apply_rolling_shutter(maskedTest, testSpecAnn, strategy=strategy)"
   ]
  },
  {
   "cell_type": "code",
   "execution_count": 5,
   "metadata": {},
   "outputs": [],
   "source": [
    "fn.display_image(testImgArr)"
   ]
  },
  {
   "cell_type": "code",
   "execution_count": 11,
   "metadata": {},
   "outputs": [
    {
     "data": {
      "text/plain": [
       "(23, 175, 254, 357)"
      ]
     },
     "execution_count": 11,
     "metadata": {},
     "output_type": "execute_result"
    }
   ],
   "source": [
    "fn.get_ann_dims(testSpecAnn)"
   ]
  },
  {
   "cell_type": "code",
   "execution_count": 25,
   "metadata": {},
   "outputs": [
    {
     "data": {
      "text/plain": [
       "(640, 427, 3)"
      ]
     },
     "execution_count": 25,
     "metadata": {},
     "output_type": "execute_result"
    }
   ],
   "source": [
    "testImgArr.shape"
   ]
  },
  {
   "cell_type": "code",
   "execution_count": 51,
   "metadata": {},
   "outputs": [],
   "source": [
    "def fill_inv_masked(inv_masked_img, ann, strategy='right'): # when strategy='right', pull from left; when strategy='left', pull from right\n",
    "    output = np.copy(inv_masked_img)\n",
    "\n",
    "    xmin, ymin, width, height = fn.get_ann_dims(ann)\n",
    "    id = ann['id']\n",
    "    atLeft, atRight = False, False\n",
    "\n",
    "    if strategy not in ['left', 'right']:\n",
    "        raise ValueError(f'Strategy {strategy} is invalid')\n",
    "\n",
    "    if xmin == 0: # at left side of image\n",
    "        atLeft = True\n",
    "    if xmin + width == inv_masked_img.shape[1]: # at right side of image\n",
    "        atRight = True\n",
    "    \n",
    "    if atLeft:\n",
    "        if atRight:\n",
    "            raise ValueError(f'Image #{id} takes up entire image width, cannot fill')\n",
    "        else:\n",
    "            strategy='left'\n",
    "    elif atRight:\n",
    "        strategy='right'\n",
    "\n",
    "    if strategy == 'right': # pull from left\n",
    "        for row in np.arange(ymin, ymin + height):\n",
    "            blacks = np.sort(np.array(list(set(np.where(output[row] == np.array([0, 0, 0]))[0]))))\n",
    "            if(len(blacks) > 0):\n",
    "                low = 2 * blacks[0] - 1 - blacks[-1]\n",
    "                high = blacks[0]\n",
    "                foo = np.flip(output[row][low:high], axis=0)\n",
    "                if(low < 0):\n",
    "                    foo = np.pad(np.flip(maskedTestInv[row][0:high], axis=0), ((0, -low), (0, 0)), mode='reflect')\n",
    "                output[row][blacks[0]:blacks[-1] + 1] = foo\n",
    "    else: # pull from right\n",
    "        for row in np.arange(ymin, ymin + height):\n",
    "            blacks = np.sort(np.array(list(set(np.where(output[row] == np.array([0, 0, 0]))[0]))))\n",
    "            if(len(blacks) > 0):\n",
    "                low = blacks[-1] + 1\n",
    "                high = 2 * blacks[-1] + 2 - blacks[0] \n",
    "                foo = np.flip(output[row][low:high], axis=0)\n",
    "                if(high > output.shape[1]):\n",
    "                    foo = np.pad(np.flip(maskedTestInv[row][low:maskedTestInv.shape[1]], axis=0), ((0, high-maskedTestInv.shape[1]), (0, 0)), mode='reflect')\n",
    "                output[row][blacks[0]:blacks[-1] + 1] = foo\n",
    "    return output\n",
    "\n",
    "newMaskedTestInv = fill_inv_masked(maskedTestInv, testSpecAnn, strategy=strategy)\n",
    "\n",
    "final_output = fn.recombine_masked_imgs(newMaskedTest, newMaskedTestInv)\n",
    "\n",
    "fn.display_image(final_output)"
   ]
  },
  {
   "cell_type": "code",
   "execution_count": 21,
   "metadata": {},
   "outputs": [],
   "source": [
    "fn.display_image(testImgArr)"
   ]
  },
  {
   "cell_type": "code",
   "execution_count": 43,
   "metadata": {},
   "outputs": [
    {
     "name": "stdout",
     "output_type": "stream",
     "text": [
      "165\n"
     ]
    }
   ],
   "source": [
    "row = 265\n",
    "\n",
    "blacks = np.sort(np.array(list(set(np.where(maskedTestInv[row] == np.array([0, 0, 0]))[0]))))\n",
    "if(len(blacks) > 0):\n",
    "    low = blacks[-1] + 1\n",
    "    high = 2 * blacks[-1] + 2 - blacks[0] \n",
    "    foo = np.flip(maskedTestInv[row][low:high], axis=0)\n",
    "    if(high > maskedTestInv.shape[1]):\n",
    "        foo = np.pad(np.flip(maskedTestInv[row][low:maskedTestInv.shape[1]], axis=0), ((0, high-maskedTestInv.shape[1]), (0, 0)), mode='reflect')\n",
    "        print(len(foo))"
   ]
  },
  {
   "cell_type": "code",
   "execution_count": null,
   "metadata": {},
   "outputs": [],
   "source": []
  }
 ],
 "metadata": {
  "kernelspec": {
   "display_name": "Python 3.10.6 ('capstone-env')",
   "language": "python",
   "name": "python3"
  },
  "language_info": {
   "codemirror_mode": {
    "name": "ipython",
    "version": 3
   },
   "file_extension": ".py",
   "mimetype": "text/x-python",
   "name": "python",
   "nbconvert_exporter": "python",
   "pygments_lexer": "ipython3",
   "version": "3.10.6"
  },
  "orig_nbformat": 4,
  "vscode": {
   "interpreter": {
    "hash": "948fb5d5b69e8e6148da914366d7e8ec0c2c8a66958644710cf8e6ff284ce85b"
   }
  }
 },
 "nbformat": 4,
 "nbformat_minor": 2
}
