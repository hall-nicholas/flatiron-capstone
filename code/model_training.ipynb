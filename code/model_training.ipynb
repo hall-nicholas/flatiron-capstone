{
 "cells": [
  {
   "cell_type": "code",
   "execution_count": 1,
   "metadata": {},
   "outputs": [],
   "source": [
    "import numpy as np\n",
    "import matplotlib.pyplot as plt\n",
    "from pycocotools.coco import COCO\n",
    "import cv2\n",
    "import os\n",
    "import glob\n",
    "\n",
    "import functions as fn\n",
    "\n",
    "import tensorflow as tf\n",
    "from tensorflow import keras\n",
    "\n",
    "seed=42"
   ]
  },
  {
   "cell_type": "code",
   "execution_count": 2,
   "metadata": {},
   "outputs": [
    {
     "name": "stdout",
     "output_type": "stream",
     "text": [
      "Found 317 files belonging to 2 classes.\n",
      "Using 254 files for training.\n",
      "Found 317 files belonging to 2 classes.\n",
      "Using 63 files for validation.\n",
      "Found 78 files belonging to 2 classes.\n"
     ]
    }
   ],
   "source": [
    "train_data = keras.preprocessing.image_dataset_from_directory(\n",
    "    '../created_data/train', \n",
    "    labels='inferred',\n",
    "    subset=\"training\",\n",
    "    validation_split=.2,\n",
    "    seed=seed,\n",
    "    shuffle=False)\n",
    "\n",
    "val_data = keras.preprocessing.image_dataset_from_directory(\n",
    "    '../created_data/train', \n",
    "    labels='inferred',\n",
    "    subset=\"validation\",\n",
    "    validation_split=.2,\n",
    "    seed=seed,\n",
    "    shuffle=False)\n",
    "\n",
    "test_data = keras.preprocessing.image_dataset_from_directory(\n",
    "    '../created_data/test', \n",
    "    labels='inferred',\n",
    "    shuffle=False)"
   ]
  },
  {
   "cell_type": "code",
   "execution_count": 3,
   "metadata": {},
   "outputs": [],
   "source": [
    "\n",
    "for images, labels in train_data.take(1):\n",
    "    for i in range(3):\n",
    "        fn.display_image(images[i].numpy().astype('uint8'))"
   ]
  },
  {
   "cell_type": "code",
   "execution_count": 4,
   "metadata": {},
   "outputs": [],
   "source": [
    "def preprocess(image, label):\n",
    "    resized_image = tf.image.resize(image, [224,224])\n",
    "    final_image = keras.applications.xception.preprocess_input(resized_image)\n",
    "    return final_image, label"
   ]
  },
  {
   "cell_type": "code",
   "execution_count": 5,
   "metadata": {},
   "outputs": [],
   "source": [
    "train_data = val_data.map(preprocess).prefetch(1)\n",
    "val_data = val_data.map(preprocess).prefetch(1)\n",
    "test_data = test_data.map(preprocess).prefetch(1)"
   ]
  },
  {
   "cell_type": "code",
   "execution_count": 6,
   "metadata": {},
   "outputs": [
    {
     "name": "stdout",
     "output_type": "stream",
     "text": [
      "Epoch 1/5\n"
     ]
    },
    {
     "name": "stderr",
     "output_type": "stream",
     "text": [
      "c:\\Users\\nicho\\anaconda3\\envs\\capstone-env\\lib\\site-packages\\keras\\optimizer_v2\\gradient_descent.py:102: UserWarning: The `lr` argument is deprecated, use `learning_rate` instead.\n",
      "  super(SGD, self).__init__(name, **kwargs)\n"
     ]
    },
    {
     "name": "stdout",
     "output_type": "stream",
     "text": [
      "2/2 [==============================] - 5s 2s/step - loss: 0.2993 - accuracy: 0.9206 - recall: 0.9206 - val_loss: 5.2499e-06 - val_accuracy: 1.0000 - val_recall: 1.0000\n",
      "Epoch 2/5\n",
      "2/2 [==============================] - 2s 2s/step - loss: 1.1529e-06 - accuracy: 1.0000 - recall: 1.0000 - val_loss: 2.5658e-09 - val_accuracy: 1.0000 - val_recall: 1.0000\n",
      "Epoch 3/5\n",
      "2/2 [==============================] - 2s 2s/step - loss: 2.5134e-10 - accuracy: 1.0000 - recall: 1.0000 - val_loss: 6.2590e-12 - val_accuracy: 1.0000 - val_recall: 1.0000\n",
      "Epoch 4/5\n",
      "2/2 [==============================] - 2s 2s/step - loss: 6.1702e-13 - accuracy: 1.0000 - recall: 1.0000 - val_loss: 4.8905e-14 - val_accuracy: 1.0000 - val_recall: 1.0000\n",
      "Epoch 5/5\n",
      "2/2 [==============================] - 2s 2s/step - loss: 6.6578e-15 - accuracy: 1.0000 - recall: 1.0000 - val_loss: 9.6554e-16 - val_accuracy: 1.0000 - val_recall: 1.0000\n"
     ]
    }
   ],
   "source": [
    "base_model = keras.applications.xception.Xception(weights = 'imagenet', include_top = False)\n",
    "\n",
    "for layer in base_model.layers:\n",
    "    layer.trainable = False\n",
    "\n",
    "avg = keras.layers.GlobalAveragePooling2D()(base_model.output)\n",
    "output = keras.layers.Dense(1, activation = 'sigmoid')(avg)\n",
    "model = keras.Model(inputs = base_model.input, outputs = output)\n",
    "\n",
    "optimizer = keras.optimizers.SGD(lr = 0.2, momentum = 0.9, decay = 0.01)\n",
    "model.compile(loss = 'binary_crossentropy', optimizer = optimizer,  metrics = ['accuracy', tf.keras.metrics.Recall()])\n",
    "\n",
    "results = model.fit(train_data, epochs = 5, validation_data = val_data)"
   ]
  },
  {
   "cell_type": "code",
   "execution_count": 8,
   "metadata": {},
   "outputs": [
    {
     "name": "stdout",
     "output_type": "stream",
     "text": [
      "3/3 [==============================] - 2s 435ms/step - loss: 27.9444 - accuracy: 0.4872 - recall: 1.0000\n"
     ]
    },
    {
     "data": {
      "text/plain": [
       "[27.944395065307617, 0.4871794879436493, 1.0]"
      ]
     },
     "execution_count": 8,
     "metadata": {},
     "output_type": "execute_result"
    }
   ],
   "source": [
    "model.evaluate(test_data)"
   ]
  },
  {
   "cell_type": "code",
   "execution_count": null,
   "metadata": {},
   "outputs": [],
   "source": []
  }
 ],
 "metadata": {
  "kernelspec": {
   "display_name": "Python 3.10.6 ('capstone-env')",
   "language": "python",
   "name": "python3"
  },
  "language_info": {
   "codemirror_mode": {
    "name": "ipython",
    "version": 3
   },
   "file_extension": ".py",
   "mimetype": "text/x-python",
   "name": "python",
   "nbconvert_exporter": "python",
   "pygments_lexer": "ipython3",
   "version": "3.10.6"
  },
  "orig_nbformat": 4,
  "vscode": {
   "interpreter": {
    "hash": "948fb5d5b69e8e6148da914366d7e8ec0c2c8a66958644710cf8e6ff284ce85b"
   }
  }
 },
 "nbformat": 4,
 "nbformat_minor": 2
}
