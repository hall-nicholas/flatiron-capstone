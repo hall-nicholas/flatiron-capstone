{
 "cells": [
  {
   "cell_type": "code",
   "execution_count": 1,
   "metadata": {},
   "outputs": [],
   "source": [
    "import numpy as np\n",
    "import matplotlib.pyplot as plt\n",
    "from pycocotools.coco import COCO\n",
    "import cv2\n",
    "\n",
    "import functions as fn"
   ]
  },
  {
   "cell_type": "code",
   "execution_count": 2,
   "metadata": {},
   "outputs": [
    {
     "name": "stdout",
     "output_type": "stream",
     "text": [
      "loading annotations into memory...\n",
      "Done (t=9.79s)\n",
      "creating index...\n",
      "index created!\n",
      "loading annotations into memory...\n",
      "Done (t=0.34s)\n",
      "creating index...\n",
      "index created!\n"
     ]
    }
   ],
   "source": [
    "dataDir='../data'\n",
    "trainDir='train2017'\n",
    "valDir='val2017'\n",
    "seed=42\n",
    "transformed=.5\n",
    "train=.6\n",
    "val=.2\n",
    "test = 1 - train - val\n",
    "\n",
    "np.random.seed(seed)\n",
    "\n",
    "trainAnn=f'{dataDir}/annotations/instances_{trainDir}.json'\n",
    "valAnn=f'{dataDir}/annotations/instances_{valDir}.json'\n",
    "\n",
    "cocoTrain=COCO(trainAnn)\n",
    "cocoVal=COCO(valAnn)\n",
    "\n",
    "catIdsTrain = cocoTrain.getCatIds(catNms=['person'])\n",
    "imgIdsTrain = cocoTrain.getImgIds(catIds=catIdsTrain)\n",
    "imgIdsTrain = cocoTrain.getImgIds(imgIds=imgIdsTrain)\n",
    "annIdsTrain = cocoTrain.getAnnIds(imgIds=imgIdsTrain, catIds=catIdsTrain, iscrowd=None)\n",
    "\n",
    "catIdsVal = cocoVal.getCatIds(catNms=['person'])\n",
    "imgIdsVal = cocoVal.getImgIds(catIds=catIdsVal)\n",
    "imgIdsVal = cocoVal.getImgIds(imgIds=imgIdsVal)\n",
    "annIdsVal = cocoVal.getAnnIds(imgIds=imgIdsVal, catIds=catIdsVal, iscrowd=None)"
   ]
  },
  {
   "cell_type": "code",
   "execution_count": 3,
   "metadata": {},
   "outputs": [
    {
     "data": {
      "text/plain": [
       "True"
      ]
     },
     "execution_count": 3,
     "metadata": {},
     "output_type": "execute_result"
    }
   ],
   "source": [
    "catIdsTrain == catIdsVal"
   ]
  },
  {
   "cell_type": "code",
   "execution_count": 4,
   "metadata": {},
   "outputs": [],
   "source": [
    "#foo[mdpt:blacks[-1]] = right_arr"
   ]
  },
  {
   "cell_type": "code",
   "execution_count": 5,
   "metadata": {},
   "outputs": [
    {
     "data": {
      "text/plain": [
       "(64115, 2693)"
      ]
     },
     "execution_count": 5,
     "metadata": {},
     "output_type": "execute_result"
    }
   ],
   "source": [
    "len(imgIdsTrain), len(imgIdsVal)"
   ]
  },
  {
   "cell_type": "code",
   "execution_count": 6,
   "metadata": {},
   "outputs": [],
   "source": [
    "#imgIds = np.append(imgIdsTrain, imgIdsVal)\n",
    "#len(imgIds)"
   ]
  },
  {
   "cell_type": "code",
   "execution_count": 7,
   "metadata": {},
   "outputs": [
    {
     "data": {
      "text/plain": [
       "(0.6, 0.2, 0.2)"
      ]
     },
     "execution_count": 7,
     "metadata": {},
     "output_type": "execute_result"
    }
   ],
   "source": [
    "train, val, test"
   ]
  },
  {
   "cell_type": "code",
   "execution_count": 8,
   "metadata": {},
   "outputs": [],
   "source": [
    "#annIds = cocoTrain.getAnnIds(imgIds=imgIdsTrain, catIds=catIdsTrain, iscrowd=None)"
   ]
  },
  {
   "cell_type": "code",
   "execution_count": 9,
   "metadata": {},
   "outputs": [],
   "source": [
    "#len(annIds)"
   ]
  },
  {
   "cell_type": "code",
   "execution_count": 29,
   "metadata": {},
   "outputs": [],
   "source": [
    "count = 0\n",
    "limit = 20\n",
    "\n",
    "idx = 69\n",
    "\n",
    "testImg = cocoTrain.loadImgs(imgIdsTrain[idx])[0]\n",
    "testAnn = cocoTrain.loadAnns(cocoTrain.getAnnIds(imgIds=testImg['id'], catIds=catIdsTrain, iscrowd=None))\n",
    "\n",
    "fpath = '{}/{}/{}'.format(dataDir, trainDir, testImg['file_name'])\n",
    "\n",
    "testImgArr = cv2.imread(fpath)\n",
    "\n",
    "fn.remove_true_blacks(testImgArr)\n",
    "\n",
    "testSpecAnn = testAnn[1] # np.random.randint(0, len(testAnn))\n",
    "\n",
    "maskedTest, maskedTestInv = fn.generate_masked_images(testImgArr, testSpecAnn)\n",
    "\n",
    "#testSpecAnn = fn.coco_polyseg_formatted(testSpecAnn)\n",
    "\n",
    "#newMaskedTest = fn.apply_rolling_shutter(maskedTest, testSpecAnn, strategy='left')\n",
    "\n",
    "#newMaskedTestInv = fn.fill_inv_masked(maskedTestInv, testSpecAnn)\n",
    "\n",
    "fn.display_image(testImgArr)"
   ]
  },
  {
   "cell_type": "code",
   "execution_count": 43,
   "metadata": {},
   "outputs": [],
   "source": [
    "def get_ann_dims(ann):\n",
    "    return int(np.round(ann['bbox'][0])), int(np.round(ann['bbox'][1])), int(np.round(ann['bbox'][2])), int(np.round(ann['bbox'][3])) # xmin, ymin, width, height\n",
    "\n",
    "\n",
    "def fill_inv_masked(inv_masked_img, ann, strategy='right'): # when strategy='right', pull from left; when strategy='left', pull from right\n",
    "    output = np.copy(inv_masked_img)\n",
    "\n",
    "    xmin, ymin, width, height = get_ann_dims(ann)\n",
    "    id = ann['id']\n",
    "    atLeft, atRight = False, False\n",
    "\n",
    "    if strategy not in ['left', 'right']:\n",
    "        raise ValueError(f'Strategy {strategy} is invalid')\n",
    "\n",
    "    if xmin == 0: # at left side of image\n",
    "        atLeft = True\n",
    "    if xmin + width == inv_masked_img.shape[1]: # at right side of image, pull from left\n",
    "        atRight = True\n",
    "    \n",
    "    if atLeft:\n",
    "        if atRight:\n",
    "            raise ValueError(f'Image #{id} takes up entire image width, cannot fill')\n",
    "        else:\n",
    "            strategy='left'\n",
    "    elif atRight:\n",
    "        strategy='right'\n",
    "\n",
    "    if strategy == 'right':\n",
    "        print(strategy)\n",
    "        for row in np.arange(ymin, ymin + height):\n",
    "            blacks = np.sort(np.array(list(set(np.where(output[row] == np.array([0, 0, 0]))[0]))))\n",
    "            if(len(blacks) > 0):\n",
    "                output[row][blacks[0]:blacks[-1] + 1] = np.flip(output[row][blacks[0] - len(blacks):blacks[0]], axis=0)\n",
    "    else:\n",
    "        for row in np.arange(ymin, ymin + height):\n",
    "            blacks = np.sort(np.array(list(set(np.where(output[row] == np.array([0, 0, 0]))[0]))))\n",
    "            if(len(blacks) > 0):\n",
    "                output[row][blacks[0]:blacks[-1] + 1] = np.flip(output[row][blacks[-1] + 1:blacks[-1] + 1 + len(blacks)], axis=0)\n",
    "\n",
    "    #else:\n",
    "    #    print('from center')\n",
    "\n",
    "\n",
    "    #for row in np.arange(ymin, ymax):\n",
    "    #    blacks = np.sort(np.array(list(set(np.where(output[row] == np.array([0, 0, 0]))[0]))))\n",
    "    #    mdpt = blacks[int(len(blacks) / 2)]\n",
    "    #    left_len = mdpt - blacks[0]\n",
    "    #    right_len = blacks[-1] - mdpt\n",
    "    #    left_arr = np.flip(output[row][blacks[0] - left_len:blacks[0]], axis=0)\n",
    "    #    right_arr = np.flip(output[row][blacks[-1] + 1:blacks[-1] + right_len + 2], axis=0)\n",
    "    #    output[row][blacks[0]:mdpt] = left_arr\n",
    "    #    output[row][mdpt:blacks[-1] + 1] = right_arr\n",
    "    \n",
    "    return output\n",
    "\n",
    "grand = fill_inv_masked(maskedTestInv, testSpecAnn)"
   ]
  },
  {
   "cell_type": "code",
   "execution_count": 44,
   "metadata": {},
   "outputs": [],
   "source": [
    "fn.display_image(grand)"
   ]
  },
  {
   "cell_type": "code",
   "execution_count": 26,
   "metadata": {},
   "outputs": [
    {
     "data": {
      "text/plain": [
       "502933"
      ]
     },
     "execution_count": 26,
     "metadata": {},
     "output_type": "execute_result"
    }
   ],
   "source": [
    "testSpecAnn['id']"
   ]
  },
  {
   "cell_type": "code",
   "execution_count": 17,
   "metadata": {},
   "outputs": [
    {
     "data": {
      "text/plain": [
       "500"
      ]
     },
     "execution_count": 17,
     "metadata": {},
     "output_type": "execute_result"
    }
   ],
   "source": [
    "maskedTest.shape[1]"
   ]
  },
  {
   "cell_type": "code",
   "execution_count": 18,
   "metadata": {},
   "outputs": [],
   "source": [
    "fn.display_image(maskedTest)"
   ]
  },
  {
   "cell_type": "code",
   "execution_count": 19,
   "metadata": {},
   "outputs": [],
   "source": [
    "# 3, 48 is good center\n",
    "# 4, 69 is good left\n",
    "# 21.1 is good wide lol\n",
    "# 60.1 is good right \n",
    "\n",
    "zidx = 60\n",
    "\n",
    "ztestImg = cocoTrain.loadImgs(imgIdsTrain[zidx])[0]\n",
    "ztestAnn = cocoTrain.loadAnns(cocoTrain.getAnnIds(imgIds=ztestImg['id'], catIds=catIdsTrain, iscrowd=None))\n",
    "\n",
    "zfpath = '{}/{}/{}'.format(dataDir, trainDir, ztestImg['file_name'])\n",
    "\n",
    "ztestImgArr = cv2.imread(zfpath)\n",
    "\n",
    "fn.remove_true_blacks(ztestImgArr)\n",
    "\n",
    "fn.display_image(ztestImgArr)\n"
   ]
  },
  {
   "cell_type": "code",
   "execution_count": 20,
   "metadata": {},
   "outputs": [],
   "source": [
    "ztestSpecAnn = ztestAnn[1]\n",
    "\n",
    "zmaskedTest, zmaskedTestInv = fn.generate_masked_images(ztestImgArr, ztestSpecAnn)\n",
    "\n",
    "fn.display_image(zmaskedTest)"
   ]
  },
  {
   "cell_type": "code",
   "execution_count": 64,
   "metadata": {},
   "outputs": [
    {
     "data": {
      "text/plain": [
       "(640, 416, 3)"
      ]
     },
     "execution_count": 64,
     "metadata": {},
     "output_type": "execute_result"
    }
   ],
   "source": [
    "zmaskedTest.shape"
   ]
  },
  {
   "cell_type": "code",
   "execution_count": 77,
   "metadata": {},
   "outputs": [],
   "source": [
    "#fn.coco_polyseg_formatted(ztestSpecAnn)"
   ]
  },
  {
   "cell_type": "code",
   "execution_count": 39,
   "metadata": {},
   "outputs": [
    {
     "name": "stdout",
     "output_type": "stream",
     "text": [
      "right\n"
     ]
    }
   ],
   "source": [
    "zrand = fill_inv_masked(zmaskedTestInv, ztestSpecAnn)"
   ]
  },
  {
   "cell_type": "code",
   "execution_count": 40,
   "metadata": {},
   "outputs": [],
   "source": [
    "fn.display_image(zrand)"
   ]
  },
  {
   "cell_type": "code",
   "execution_count": 128,
   "metadata": {},
   "outputs": [],
   "source": [
    "znewMaskedTestInv = fn.fill_inv_masked(zmaskedTestInv, ztestSpecAnn) # 1\n",
    "\n",
    "znewMaskedTest = fn.apply_rolling_shutter(zmaskedTest, ztestSpecAnn, interval=2, strategy='right')\n",
    "\n",
    "zoutput = fn.recombine_masked_imgs(znewMaskedTest, znewMaskedTestInv) # 1\n",
    "\n",
    "#zrecombined = fn.recombine_masked_imgs(znewMaskedTest, zmaskedTestInv) # 2\n",
    "\n",
    "#zoutput = fn.fill_inv_masked(zrecombined, ztestSpecAnn) # 2\n",
    "\n",
    "rand, rand2 = fn.generate_masked_images(zoutput, ztestSpecAnn)\n",
    "\n",
    "fn.display_image(zoutput)"
   ]
  },
  {
   "cell_type": "code",
   "execution_count": 48,
   "metadata": {},
   "outputs": [
    {
     "data": {
      "text/plain": [
       "{'license': 1,\n",
       " 'file_name': '000000000136.jpg',\n",
       " 'coco_url': 'http://images.cocodataset.org/train2017/000000000136.jpg',\n",
       " 'height': 374,\n",
       " 'width': 500,\n",
       " 'date_captured': '2013-11-17 01:42:35',\n",
       " 'flickr_url': 'http://farm1.staticflickr.com/90/206826531_339a965783_z.jpg',\n",
       " 'id': 136}"
      ]
     },
     "execution_count": 48,
     "metadata": {},
     "output_type": "execute_result"
    }
   ],
   "source": [
    "testImg"
   ]
  },
  {
   "cell_type": "code",
   "execution_count": 17,
   "metadata": {},
   "outputs": [],
   "source": [
    "testAnn = cocoTrain.loadAnns(cocoTrain.getAnnIds(imgIds=testImg['id'], catIds=catIdsTrain, iscrowd=None))"
   ]
  },
  {
   "cell_type": "code",
   "execution_count": 20,
   "metadata": {},
   "outputs": [
    {
     "data": {
      "text/plain": [
       "2"
      ]
     },
     "execution_count": 20,
     "metadata": {},
     "output_type": "execute_result"
    }
   ],
   "source": [
    "len(testAnn)"
   ]
  },
  {
   "cell_type": "code",
   "execution_count": 41,
   "metadata": {},
   "outputs": [
    {
     "name": "stdout",
     "output_type": "stream",
     "text": [
      "0\n",
      "1\n",
      "0\n",
      "0\n",
      "0\n",
      "1\n",
      "0\n",
      "0\n",
      "0\n",
      "1\n"
     ]
    }
   ],
   "source": [
    "np.random.seed(seed)\n",
    "\n",
    "for i in range(10):\n",
    "    print(np.random.randint(0, len(testAnn)))"
   ]
  },
  {
   "cell_type": "code",
   "execution_count": null,
   "metadata": {},
   "outputs": [],
   "source": []
  },
  {
   "cell_type": "code",
   "execution_count": null,
   "metadata": {},
   "outputs": [],
   "source": []
  }
 ],
 "metadata": {
  "kernelspec": {
   "display_name": "Python 3.10.6 ('capstone-env')",
   "language": "python",
   "name": "python3"
  },
  "language_info": {
   "codemirror_mode": {
    "name": "ipython",
    "version": 3
   },
   "file_extension": ".py",
   "mimetype": "text/x-python",
   "name": "python",
   "nbconvert_exporter": "python",
   "pygments_lexer": "ipython3",
   "version": "3.10.6"
  },
  "orig_nbformat": 4,
  "vscode": {
   "interpreter": {
    "hash": "948fb5d5b69e8e6148da914366d7e8ec0c2c8a66958644710cf8e6ff284ce85b"
   }
  }
 },
 "nbformat": 4,
 "nbformat_minor": 2
}
